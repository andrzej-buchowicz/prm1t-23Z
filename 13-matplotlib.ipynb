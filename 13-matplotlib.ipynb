{
 "cells": [
  {
   "cell_type": "markdown",
   "metadata": {
    "id": "VhUb_OlMgQRI",
    "slideshow": {
     "slide_type": "slide"
    }
   },
   "source": [
    "<div style=\"text-align: center; color: #7896cf; font-size: 32px; font-weight: bold; font-family: Arial, Helvetica, sans-serif; padding-bottom: 12px;\">PODSTAWY PROGRAMOWANIA 1</div>\n",
    "<div style=\"text-align: center; color: #3c3c4c; font-size: large; font-family:monospace; padding-bottom:18px;\"> andrzej.buchowicz@pw.edu.pl</div>\n",
    "<div style=\"text-align: center; font-size: 48px; font-family: Arial, Helvetica, sans-serif; padding-bottom: 24px; line-height: 1.25;\">Wizualizacja danych - pakiet matplotlib</div>"
   ]
  },
  {
   "cell_type": "markdown",
   "metadata": {
    "id": "zZkFuJn9LAmt",
    "slideshow": {
     "slide_type": "slide"
    }
   },
   "source": [
    "## Python - wizualizacja danych\n",
    "\n",
    "* **[Matplotlib](https://matplotlib.org/)**\n",
    "* [Seaborn](https://seaborn.pydata.org/)\n",
    "* [Plotly](https://plotly.com/python/)\n",
    "* ..."
   ]
  },
  {
   "cell_type": "markdown",
   "metadata": {
    "id": "XM2iswSrLc5T",
    "slideshow": {
     "slide_type": "slide"
    }
   },
   "source": [
    "## Pakiet `matplotlib`\n",
    "\n",
    "[Środowisko graficzne (*backends*)](https://matplotlib.org/stable/users/explain/figure/backends.html)"
   ]
  },
  {
   "cell_type": "markdown",
   "metadata": {
    "id": "fGEhkQUk3ivg",
    "slideshow": {
     "slide_type": "fragment"
    }
   },
   "source": [
    "### Wykres funkcji jednej zmienej"
   ]
  },
  {
   "cell_type": "code",
   "execution_count": null,
   "metadata": {
    "id": "0cP_LQ4xFdn8",
    "slideshow": {
     "slide_type": "fragment"
    }
   },
   "outputs": [],
   "source": [
    "import numpy as np\n",
    "import matplotlib.pylab as plt"
   ]
  },
  {
   "cell_type": "code",
   "execution_count": null,
   "metadata": {
    "slideshow": {
     "slide_type": "fragment"
    }
   },
   "outputs": [],
   "source": [
    "t = np.linspace(0., 1., num=100)\n",
    "x = np.sin(2 * np.pi * t)\n",
    "y = np.cos(2 * np.pi * t)"
   ]
  },
  {
   "cell_type": "code",
   "execution_count": null,
   "metadata": {
    "colab": {
     "base_uri": "https://localhost:8080/",
     "height": 567
    },
    "id": "PrpuXqykhsbd",
    "outputId": "125656b9-90e8-4417-f180-ff56baedd0e0",
    "slideshow": {
     "slide_type": "subslide"
    }
   },
   "outputs": [],
   "source": [
    "plt.figure(figsize=(9, 6))\n",
    "plt.plot(t, x, 'r-', label=r'$\\sin(2 \\pi t)$')\n",
    "plt.plot(t, y, color='#000080', linestyle='dashed', label=r'$\\cos(2 \\pi t)$')\n",
    "plt.grid()\n",
    "plt.xlabel('t')\n",
    "plt.ylabel('x(t)')\n",
    "plt.title(\"Wykres funkcji\")\n",
    "plt.legend(loc='upper right')\n",
    "#plt.show()\n",
    "\n",
    "plt.savefig('wykres.png')"
   ]
  },
  {
   "cell_type": "code",
   "execution_count": null,
   "metadata": {},
   "outputs": [],
   "source": [
    "fig, ax = plt.subplots(figsize=(9, 6))\n",
    "ax.plot(t, x, 'r-', label=r'$\\sin(2 \\pi t)$')\n",
    "ax.plot(t, y, color='#000080', linestyle='dashed', label=r'$\\cos(2 \\pi t)$')\n",
    "ax.grid()\n",
    "ax.set_xlabel('t')\n",
    "ax.set_ylabel('x(t)')\n",
    "ax.set_title(\"Wykres funkcji\")\n",
    "ax.legend(loc='upper right')\n",
    "#plt.show()\n",
    "\n",
    "plt.savefig('wykres2.png')"
   ]
  },
  {
   "cell_type": "code",
   "execution_count": null,
   "metadata": {
    "colab": {
     "base_uri": "https://localhost:8080/",
     "height": 404
    },
    "id": "wWoi2_3gU_1d",
    "outputId": "126f2c55-f4f3-45c1-c5ec-c12a01c658fb",
    "slideshow": {
     "slide_type": "slide"
    }
   },
   "outputs": [],
   "source": [
    "fig, (ax1, ax2) = plt.subplots(2, 1, figsize=(9, 6))\n",
    "\n",
    "fig.suptitle(\"Wykres funkcji\")\n",
    "\n",
    "ax1.plot(t, x, 'r-')\n",
    "ax1.grid()\n",
    "ax1.set_ylabel(r'$\\sin(2 \\pi t)$')\n",
    "\n",
    "ax2.plot(t, y, color='#000080', linestyle='dashed')\n",
    "ax2.grid()\n",
    "ax2.set_xlabel('t')\n",
    "ax2.set_ylabel(r'$\\cos(2 \\pi t)$');"
   ]
  },
  {
   "cell_type": "markdown",
   "metadata": {
    "id": "pY9-QR3nmOz8",
    "slideshow": {
     "slide_type": "slide"
    }
   },
   "source": [
    "### Wyniki pomiarów"
   ]
  },
  {
   "cell_type": "code",
   "execution_count": null,
   "metadata": {
    "id": "scVEc2EjzK4M",
    "slideshow": {
     "slide_type": "fragment"
    }
   },
   "outputs": [],
   "source": [
    "x = np.linspace(0., 10, num=100)\n",
    "fx = np.polyval([0.5, 1.0, 2.], x)\n",
    "\n",
    "x_pom = x[::10]\n",
    "fx_pom = (fx + 2.5 * np.random.randn(fx.shape[0]))[::10]"
   ]
  },
  {
   "cell_type": "code",
   "execution_count": null,
   "metadata": {
    "colab": {
     "base_uri": "https://localhost:8080/",
     "height": 584
    },
    "id": "1oQj-i02kuvU",
    "outputId": "1348da34-ed6f-4f6b-f15a-c336e351552d",
    "slideshow": {
     "slide_type": "subslide"
    }
   },
   "outputs": [],
   "source": [
    "_, ax = plt.subplots(figsize=(9, 6))\n",
    "ax.scatter(x_pom, fx_pom, marker='d', c='#ff0000', label='pomiar')\n",
    "\n",
    "ax.grid()\n",
    "ax.set_xlabel('x')\n",
    "ax.set_ylabel('f(x)')\n",
    "ax.set_title('Wyniki pomiarów');"
   ]
  },
  {
   "cell_type": "code",
   "execution_count": null,
   "metadata": {
    "slideshow": {
     "slide_type": "subslide"
    }
   },
   "outputs": [],
   "source": [
    "p = np.polyfit(x_pom, fx_pom, 2)\n",
    "print(p)\n",
    "fx_apprx = np.polyval(p, x)"
   ]
  },
  {
   "cell_type": "code",
   "execution_count": null,
   "metadata": {
    "slideshow": {
     "slide_type": "subslide"
    }
   },
   "outputs": [],
   "source": [
    "_, ax = plt.subplots(figsize=(9, 6))\n",
    "\n",
    "ax.scatter(x_pom, fx_pom, marker='d', c='#ff0000', label='pomiar')\n",
    "ax.plot(x, fx_apprx, color='#ff8000', linestyle='dashed', label='aprox')\n",
    "\n",
    "ax.grid()\n",
    "ax.set_xlabel('x')\n",
    "ax.set_ylabel('f(x)')\n",
    "ax.legend()\n",
    "ax.set_title('Wyniki pomiarów');"
   ]
  },
  {
   "cell_type": "markdown",
   "metadata": {
    "id": "I2WCJGl1mXXc",
    "slideshow": {
     "slide_type": "slide"
    }
   },
   "source": [
    "### Histogram"
   ]
  },
  {
   "cell_type": "code",
   "execution_count": null,
   "metadata": {
    "colab": {
     "base_uri": "https://localhost:8080/",
     "height": 374
    },
    "id": "oi5Xvj5ErD97",
    "outputId": "40db7d1d-8905-45ee-effa-53788d5066a4",
    "slideshow": {
     "slide_type": "fragment"
    }
   },
   "outputs": [],
   "source": [
    "data = np.random.randn(1000000)\n",
    "\n",
    "_, ax = plt.subplots(figsize=(9, 6))\n",
    "hist, bin_edges = np.histogram(data, bins=500)\n",
    "ax.bar(bin_edges[:-1], hist);"
   ]
  },
  {
   "cell_type": "markdown",
   "metadata": {
    "id": "3tA7S9Ulq95S",
    "slideshow": {
     "slide_type": "slide"
    }
   },
   "source": [
    "### Wykres slupkowy"
   ]
  },
  {
   "cell_type": "code",
   "execution_count": null,
   "metadata": {
    "colab": {
     "base_uri": "https://localhost:8080/",
     "height": 374
    },
    "id": "UmqkU-ZxsJXP",
    "outputId": "876766be-62bd-49a9-9125-b5cc0a6d5418",
    "slideshow": {
     "slide_type": "fragment"
    }
   },
   "outputs": [],
   "source": [
    "import matplotlib.cm as cm\n",
    "\n",
    "labels = ['A', 'B', 'C', 'D', 'E']\n",
    "values = np.random.randint(1, 7, len(labels))\n",
    "\n",
    "_, ax = plt.subplots(figsize=(9, 6))\n",
    "ax.bar(range(len(labels)), values, color=cm.get_cmap('Set1').colors)\n",
    "ax.set_xticks(range(len(labels)), labels);"
   ]
  },
  {
   "cell_type": "markdown",
   "metadata": {
    "id": "pSpVrKpr0bdp",
    "slideshow": {
     "slide_type": "subslide"
    }
   },
   "source": [
    "[Matplotlib colormaps](https://matplotlib.org/3.1.1/tutorials/colors/colormaps.html)"
   ]
  },
  {
   "cell_type": "code",
   "execution_count": null,
   "metadata": {
    "colab": {
     "base_uri": "https://localhost:8080/",
     "height": 374
    },
    "id": "qVT3wogqwuWi",
    "outputId": "4b25ba1a-3eb9-4053-abcd-ec0e2f4a382a",
    "slideshow": {
     "slide_type": "subslide"
    }
   },
   "outputs": [],
   "source": [
    "data1 = np.random.randint(1, 7, len(labels))\n",
    "data2 = np.random.randint(1, 3, len(labels))\n",
    "\n",
    "_, ax = plt.subplots(figsize=(9, 6))\n",
    "ax.bar(range(len(labels)), data1, color='#45a29e', label='data1')\n",
    "ax.bar(range(len(labels)), data2, bottom=data1, color='#66fcf1', label='data2')\n",
    "ax.legend()\n",
    "ax.set_xticks(range(len(labels)), labels);"
   ]
  },
  {
   "cell_type": "markdown",
   "metadata": {
    "id": "cE-8HmJymcdN",
    "slideshow": {
     "slide_type": "slide"
    }
   },
   "source": [
    "### Wykres kolowy"
   ]
  },
  {
   "cell_type": "code",
   "execution_count": null,
   "metadata": {
    "colab": {
     "base_uri": "https://localhost:8080/",
     "height": 373
    },
    "id": "wPamm_Oj6L3r",
    "outputId": "606be570-9b3c-48a2-d26d-972071a76579",
    "slideshow": {
     "slide_type": "fragment"
    }
   },
   "outputs": [],
   "source": [
    "data3 = 100 * (data1 / np.sum(data1))\n",
    "\n",
    "_, ax = plt.subplots(figsize=(9, 6))\n",
    "ax.pie(data3, colors=cm.get_cmap('Dark2').colors, \n",
    "       labels=labels, \n",
    "       startangle=90, counterclock=False, autopct='%1.1f%%')\n",
    "ax.set_title('Wyniki')"
   ]
  },
  {
   "cell_type": "markdown",
   "metadata": {
    "id": "rGfRydkDmewo",
    "slideshow": {
     "slide_type": "slide"
    }
   },
   "source": [
    "### Wykres funkcji dwóch zmiennych (3D)"
   ]
  },
  {
   "cell_type": "code",
   "execution_count": null,
   "metadata": {
    "colab": {
     "base_uri": "https://localhost:8080/",
     "height": 357
    },
    "id": "t27ybIdVmasY",
    "outputId": "af4f6747-0d83-41d6-f048-345303de548d",
    "slideshow": {
     "slide_type": "subslide"
    }
   },
   "outputs": [],
   "source": [
    "fig, ax = plt.subplots(figsize=(9, 6), subplot_kw={\"projection\": \"3d\"})\n",
    "\n",
    "X = np.arange(-5, 5, 0.25)\n",
    "Y = np.arange(-5, 5, 0.25)\n",
    "X, Y = np.meshgrid(X, Y)\n",
    "\n",
    "Z = X**2 - Y**2\n",
    "\n",
    "surf = ax.plot_surface(X, Y, Z, cmap=cm.Spectral,\n",
    "                       linewidth=0, antialiased=False)\n",
    "ax.set_xlabel('x')\n",
    "ax.set_ylabel('y')\n",
    "ax.set_zlabel('z')\n",
    "ax.view_init(elev= 30, azim = -60)"
   ]
  },
  {
   "cell_type": "code",
   "execution_count": null,
   "metadata": {},
   "outputs": [],
   "source": []
  }
 ],
 "metadata": {
  "colab": {
   "collapsed_sections": [],
   "name": "11.1-matplotlib.ipynb",
   "provenance": []
  },
  "kernelspec": {
   "display_name": "Python 3 (ipykernel)",
   "language": "python",
   "name": "python3"
  },
  "language_info": {
   "codemirror_mode": {
    "name": "ipython",
    "version": 3
   },
   "file_extension": ".py",
   "mimetype": "text/x-python",
   "name": "python",
   "nbconvert_exporter": "python",
   "pygments_lexer": "ipython3",
   "version": "3.9.13"
  }
 },
 "nbformat": 4,
 "nbformat_minor": 1
}
