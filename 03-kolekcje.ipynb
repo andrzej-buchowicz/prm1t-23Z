{
 "cells": [
  {
   "cell_type": "markdown",
   "id": "11b5187e-348f-42ad-97fb-56e2b9af0fbf",
   "metadata": {},
   "source": [
    "<div style=\"text-align: center; color: #7896cf; font-size: 32px; font-weight: bold; font-family: Arial, Helvetica, sans-serif; padding-bottom: 12px;\">PODSTAWY PROGRAMOWANIA 1</div>\n",
    "<div style=\"text-align: center; color: #3c3c4c; font-size: large; font-family:monospace; padding-bottom:18px;\"> andrzej.buchowicz@pw.edu.pl</div>\n",
    "<div style=\"text-align: center; font-size: 48px; font-family: Arial, Helvetica, sans-serif; padding-bottom: 24px; line-height: 1.25;\">Kolekcje: listy, krotki, słowniki, zbiory</div>\n",
    "\n",
    "* struktury danych składające się z elementów - innych struktur danych.\n",
    "* umożliwiają wykonywanie operacji na całej kolekcji i jej poszczególnych elementach."
   ]
  },
  {
   "cell_type": "markdown",
   "id": "9515693e",
   "metadata": {},
   "source": [
    "W Python'ie dostępne są dwa rodzaje kolekcji:\n",
    "* modyfikowalne (mutables): umożliwiają m.in. dodawanie lub usuwanie elementów z kolekcji, np. listy, słowniki, zbiory\n",
    "* niemodyfikowalne (immutables): po utworzeniu nie mogą być modyfikowane, np. krotki\n",
    "\n",
    "[docs.python]"
   ]
  },
  {
   "cell_type": "markdown",
   "id": "e57f4627",
   "metadata": {},
   "source": [
    "## Lista\n",
    "\n",
    "* przechowuje elementy w określonej kolejności\n",
    "* dostęp do elementów listy zapewniają ich indeksy\n",
    "* może być modyfikowana po utworzeniu\n",
    "* moze zawierać elementy dowolnego typu, w szczególności elementem listy może być lista\n",
    "* najczęściej używa się list z elementami tego samego typu np. `int`\n",
    "\n",
    "[docs.python](https://docs.python.org/3/tutorial/introduction.html#lists)"
   ]
  },
  {
   "cell_type": "code",
   "execution_count": 1,
   "id": "92e8648c",
   "metadata": {},
   "outputs": [
    {
     "data": {
      "text/plain": [
       "[1, 2, 3, 4, 5]"
      ]
     },
     "execution_count": 1,
     "metadata": {},
     "output_type": "execute_result"
    }
   ],
   "source": [
    "liczby = [1, 2, 3, 4, 5]\n",
    "liczby"
   ]
  },
  {
   "cell_type": "code",
   "execution_count": 2,
   "id": "8de82c9d",
   "metadata": {},
   "outputs": [
    {
     "data": {
      "text/plain": [
       "list"
      ]
     },
     "execution_count": 2,
     "metadata": {},
     "output_type": "execute_result"
    }
   ],
   "source": [
    "type(liczby)"
   ]
  },
  {
   "cell_type": "code",
   "execution_count": 3,
   "id": "60178221",
   "metadata": {},
   "outputs": [
    {
     "data": {
      "text/plain": [
       "5"
      ]
     },
     "execution_count": 3,
     "metadata": {},
     "output_type": "execute_result"
    }
   ],
   "source": [
    "len(liczby)"
   ]
  },
  {
   "cell_type": "code",
   "execution_count": 4,
   "id": "8224a88d",
   "metadata": {},
   "outputs": [
    {
     "data": {
      "text/plain": [
       "1"
      ]
     },
     "execution_count": 4,
     "metadata": {},
     "output_type": "execute_result"
    }
   ],
   "source": [
    "liczby[0]"
   ]
  },
  {
   "cell_type": "code",
   "execution_count": 5,
   "id": "1c69fe16",
   "metadata": {},
   "outputs": [
    {
     "data": {
      "text/plain": [
       "[1, 2, 3, 4, 5]"
      ]
     },
     "execution_count": 5,
     "metadata": {},
     "output_type": "execute_result"
    }
   ],
   "source": [
    "liczby[:]"
   ]
  },
  {
   "cell_type": "code",
   "execution_count": 6,
   "id": "5e2fba3b",
   "metadata": {},
   "outputs": [
    {
     "data": {
      "text/plain": [
       "[1, 2]"
      ]
     },
     "execution_count": 6,
     "metadata": {},
     "output_type": "execute_result"
    }
   ],
   "source": [
    "liczby[0:2]"
   ]
  },
  {
   "cell_type": "code",
   "execution_count": 7,
   "id": "9e1368c3",
   "metadata": {},
   "outputs": [
    {
     "data": {
      "text/plain": [
       "[1, 3, 5]"
      ]
     },
     "execution_count": 7,
     "metadata": {},
     "output_type": "execute_result"
    }
   ],
   "source": [
    "liczby[0:5:2]"
   ]
  },
  {
   "cell_type": "code",
   "execution_count": 10,
   "id": "52794a42",
   "metadata": {},
   "outputs": [
    {
     "ename": "IndexError",
     "evalue": "list index out of range",
     "output_type": "error",
     "traceback": [
      "\u001b[1;31m---------------------------------------------------------------------------\u001b[0m",
      "\u001b[1;31mIndexError\u001b[0m                                Traceback (most recent call last)",
      "\u001b[1;32m~\\AppData\\Local\\Temp\\ipykernel_1368\\2376653881.py\u001b[0m in \u001b[0;36m<module>\u001b[1;34m\u001b[0m\n\u001b[1;32m----> 1\u001b[1;33m \u001b[0mliczby\u001b[0m\u001b[1;33m[\u001b[0m\u001b[1;36m5\u001b[0m\u001b[1;33m]\u001b[0m\u001b[1;33m\u001b[0m\u001b[1;33m\u001b[0m\u001b[0m\n\u001b[0m",
      "\u001b[1;31mIndexError\u001b[0m: list index out of range"
     ]
    }
   ],
   "source": [
    "liczby[5]"
   ]
  },
  {
   "cell_type": "code",
   "execution_count": 11,
   "id": "d77c54bd",
   "metadata": {},
   "outputs": [
    {
     "data": {
      "text/plain": [
       "5"
      ]
     },
     "execution_count": 11,
     "metadata": {},
     "output_type": "execute_result"
    }
   ],
   "source": [
    "liczby[-1]"
   ]
  },
  {
   "cell_type": "code",
   "execution_count": 13,
   "id": "a5d172f8",
   "metadata": {},
   "outputs": [
    {
     "data": {
      "text/plain": [
       "[5, 4, 3, 2, 1]"
      ]
     },
     "execution_count": 13,
     "metadata": {},
     "output_type": "execute_result"
    }
   ],
   "source": [
    "liczby[-1::-1]"
   ]
  },
  {
   "cell_type": "code",
   "execution_count": 14,
   "id": "def014d2",
   "metadata": {},
   "outputs": [
    {
     "data": {
      "text/plain": [
       "[1, 2, 123, 4, 5]"
      ]
     },
     "execution_count": 14,
     "metadata": {},
     "output_type": "execute_result"
    }
   ],
   "source": [
    "liczby[2] = 123\n",
    "liczby"
   ]
  },
  {
   "cell_type": "code",
   "execution_count": 15,
   "id": "9d06fa49",
   "metadata": {},
   "outputs": [
    {
     "data": {
      "text/plain": [
       "[1, 'abc', 123, 4, 5]"
      ]
     },
     "execution_count": 15,
     "metadata": {},
     "output_type": "execute_result"
    }
   ],
   "source": [
    "liczby[1] = 'abc'\n",
    "liczby"
   ]
  },
  {
   "cell_type": "code",
   "execution_count": 16,
   "id": "79e68a13",
   "metadata": {},
   "outputs": [
    {
     "data": {
      "text/plain": [
       "[[0.0, 0.1, 0.2], 'abc', 123, 4, 5]"
      ]
     },
     "execution_count": 16,
     "metadata": {},
     "output_type": "execute_result"
    }
   ],
   "source": [
    "liczby[0] = [0.0, 0.1, 0.2]\n",
    "liczby"
   ]
  },
  {
   "cell_type": "code",
   "execution_count": 17,
   "id": "eb7bd18c",
   "metadata": {},
   "outputs": [
    {
     "data": {
      "text/plain": [
       "0.0"
      ]
     },
     "execution_count": 17,
     "metadata": {},
     "output_type": "execute_result"
    }
   ],
   "source": [
    "liczby[0][0]"
   ]
  },
  {
   "cell_type": "markdown",
   "id": "7c5382f9",
   "metadata": {},
   "source": [
    "#### Pusta lista"
   ]
  },
  {
   "cell_type": "code",
   "execution_count": 18,
   "id": "e34d0108",
   "metadata": {},
   "outputs": [
    {
     "data": {
      "text/plain": [
       "0"
      ]
     },
     "execution_count": 18,
     "metadata": {},
     "output_type": "execute_result"
    }
   ],
   "source": [
    "pusta_lista = []\n",
    "len(pusta_lista)"
   ]
  },
  {
   "cell_type": "code",
   "execution_count": 19,
   "id": "4264181c",
   "metadata": {},
   "outputs": [
    {
     "data": {
      "text/plain": [
       "[]"
      ]
     },
     "execution_count": 19,
     "metadata": {},
     "output_type": "execute_result"
    }
   ],
   "source": [
    "liczby.clear()\n",
    "liczby"
   ]
  },
  {
   "cell_type": "markdown",
   "id": "9e1ae659",
   "metadata": {},
   "source": [
    "#### Dodawanie/usuwanie elementów do/z listy"
   ]
  },
  {
   "cell_type": "code",
   "execution_count": 20,
   "id": "e0062c1e",
   "metadata": {},
   "outputs": [
    {
     "data": {
      "text/plain": [
       "[1]"
      ]
     },
     "execution_count": 20,
     "metadata": {},
     "output_type": "execute_result"
    }
   ],
   "source": [
    "liczby.append(1)\n",
    "liczby"
   ]
  },
  {
   "cell_type": "code",
   "execution_count": 21,
   "id": "b2b8137e",
   "metadata": {},
   "outputs": [
    {
     "data": {
      "text/plain": [
       "[1, 'abc']"
      ]
     },
     "execution_count": 21,
     "metadata": {},
     "output_type": "execute_result"
    }
   ],
   "source": [
    "liczby.append(\"abc\")\n",
    "liczby"
   ]
  },
  {
   "cell_type": "code",
   "execution_count": 22,
   "id": "88ac3ca5",
   "metadata": {},
   "outputs": [
    {
     "data": {
      "text/plain": [
       "[1, 'abc', [1, 2, 3]]"
      ]
     },
     "execution_count": 22,
     "metadata": {},
     "output_type": "execute_result"
    }
   ],
   "source": [
    "liczby.append([1, 2, 3])\n",
    "liczby"
   ]
  },
  {
   "cell_type": "code",
   "execution_count": 23,
   "id": "207e013b",
   "metadata": {},
   "outputs": [
    {
     "data": {
      "text/plain": [
       "[1, 'abc', [1, 2, 3], 'x', 'y', 'z']"
      ]
     },
     "execution_count": 23,
     "metadata": {},
     "output_type": "execute_result"
    }
   ],
   "source": [
    "liczby.extend(['x', 'y', 'z'])\n",
    "liczby"
   ]
  },
  {
   "cell_type": "code",
   "execution_count": 24,
   "id": "2653738f",
   "metadata": {},
   "outputs": [
    {
     "data": {
      "text/plain": [
       "['a', 'b', 'c', 'd', 'e', 'f']"
      ]
     },
     "execution_count": 24,
     "metadata": {},
     "output_type": "execute_result"
    }
   ],
   "source": [
    "['a', 'b', 'c'] + ['d', 'e', 'f']"
   ]
  },
  {
   "cell_type": "code",
   "execution_count": 25,
   "id": "0bed6eb5",
   "metadata": {},
   "outputs": [
    {
     "data": {
      "text/plain": [
       "[0, 1, 'abc', [1, 2, 3], 'x', 'y', 'z']"
      ]
     },
     "execution_count": 25,
     "metadata": {},
     "output_type": "execute_result"
    }
   ],
   "source": [
    "liczby.insert(0, 0)\n",
    "liczby"
   ]
  },
  {
   "cell_type": "code",
   "execution_count": 26,
   "id": "cde6731d",
   "metadata": {},
   "outputs": [
    {
     "name": "stdout",
     "output_type": "stream",
     "text": [
      "z [0, 1, 'abc', [1, 2, 3], 'x', 'y']\n"
     ]
    }
   ],
   "source": [
    "element = liczby.pop()\n",
    "print(element, liczby) "
   ]
  },
  {
   "cell_type": "code",
   "execution_count": 27,
   "id": "a7780ef6",
   "metadata": {},
   "outputs": [
    {
     "data": {
      "text/plain": [
       "[1, 1, 1, 1, 1]"
      ]
     },
     "execution_count": 27,
     "metadata": {},
     "output_type": "execute_result"
    }
   ],
   "source": [
    "liczby = [1, 1, 1, 1, 1]\n",
    "liczby"
   ]
  },
  {
   "cell_type": "code",
   "execution_count": 28,
   "id": "b4609f37",
   "metadata": {},
   "outputs": [
    {
     "data": {
      "text/plain": [
       "[1, 1, 1, 1]"
      ]
     },
     "execution_count": 28,
     "metadata": {},
     "output_type": "execute_result"
    }
   ],
   "source": [
    "liczby.remove(1)\n",
    "liczby"
   ]
  },
  {
   "cell_type": "markdown",
   "id": "5531e675",
   "metadata": {},
   "source": [
    "#### Testowanie zawartości listy"
   ]
  },
  {
   "cell_type": "code",
   "execution_count": 29,
   "id": "3dcbba0c",
   "metadata": {},
   "outputs": [],
   "source": [
    "liczby = [1, 1, 1, 2, 3]"
   ]
  },
  {
   "cell_type": "code",
   "execution_count": 31,
   "id": "856b9e3e",
   "metadata": {},
   "outputs": [
    {
     "data": {
      "text/plain": [
       "False"
      ]
     },
     "execution_count": 31,
     "metadata": {},
     "output_type": "execute_result"
    }
   ],
   "source": [
    "11 in liczby"
   ]
  },
  {
   "cell_type": "code",
   "execution_count": 32,
   "id": "4ed317f3",
   "metadata": {},
   "outputs": [
    {
     "data": {
      "text/plain": [
       "3"
      ]
     },
     "execution_count": 32,
     "metadata": {},
     "output_type": "execute_result"
    }
   ],
   "source": [
    "liczby.count(1)"
   ]
  },
  {
   "cell_type": "markdown",
   "id": "d4f77e64",
   "metadata": {},
   "source": [
    "### Pętla `for`"
   ]
  },
  {
   "cell_type": "code",
   "execution_count": 33,
   "id": "048213c1",
   "metadata": {},
   "outputs": [
    {
     "name": "stdout",
     "output_type": "stream",
     "text": [
      "1\n",
      "2\n",
      "3\n"
     ]
    }
   ],
   "source": [
    "for i in [1, 2, 3]:\n",
    "    print(i)"
   ]
  },
  {
   "cell_type": "code",
   "execution_count": 34,
   "id": "286fe2c2",
   "metadata": {},
   "outputs": [
    {
     "name": "stdout",
     "output_type": "stream",
     "text": [
      "2\n",
      "3\n"
     ]
    }
   ],
   "source": [
    "for i in [1, 2, 3]:\n",
    "    if i == 1:\n",
    "        continue\n",
    "    print(i)"
   ]
  },
  {
   "cell_type": "code",
   "execution_count": 36,
   "id": "c76e03e6",
   "metadata": {},
   "outputs": [
    {
     "name": "stdout",
     "output_type": "stream",
     "text": [
      "1\n",
      "2\n",
      "3\n"
     ]
    }
   ],
   "source": [
    "for i in [1, 2, 3]:\n",
    "    if i > 10:\n",
    "        break\n",
    "    print(i)"
   ]
  },
  {
   "cell_type": "code",
   "execution_count": 38,
   "id": "710698cb",
   "metadata": {},
   "outputs": [
    {
     "name": "stdout",
     "output_type": "stream",
     "text": [
      "1\n",
      "2\n"
     ]
    }
   ],
   "source": [
    "for i in [1, 2, 3]:\n",
    "    if i > 2:\n",
    "        break\n",
    "    print(i)\n",
    "else:\n",
    "    print(\"petla zakonczona normalnie\")"
   ]
  },
  {
   "cell_type": "markdown",
   "id": "12d5a611",
   "metadata": {},
   "source": [
    "#### Funkcja [range()](https://docs.python.org/3/library/functions.html#func-range)"
   ]
  },
  {
   "cell_type": "code",
   "execution_count": 42,
   "id": "92fd8aa3",
   "metadata": {},
   "outputs": [
    {
     "name": "stdout",
     "output_type": "stream",
     "text": [
      "1\n",
      "3\n",
      "5\n",
      "7\n",
      "9\n"
     ]
    }
   ],
   "source": [
    "for i in range(1, 10, 2):\n",
    "    print(i)"
   ]
  },
  {
   "cell_type": "code",
   "execution_count": 43,
   "id": "6f0750a4",
   "metadata": {},
   "outputs": [
    {
     "name": "stdout",
     "output_type": "stream",
     "text": [
      "<class 'range'>\n"
     ]
    }
   ],
   "source": [
    "print(type(range(3)))"
   ]
  },
  {
   "cell_type": "code",
   "execution_count": 44,
   "id": "825425a3",
   "metadata": {},
   "outputs": [
    {
     "data": {
      "text/plain": [
       "[0, 1, 2]"
      ]
     },
     "execution_count": 44,
     "metadata": {},
     "output_type": "execute_result"
    }
   ],
   "source": [
    "list(range(3))"
   ]
  },
  {
   "cell_type": "markdown",
   "id": "998f6802",
   "metadata": {},
   "source": [
    "#### Funkcja [sorted()](https://docs.python.org/3/library/functions.html#sorted)"
   ]
  },
  {
   "cell_type": "code",
   "execution_count": 45,
   "id": "d9fe8921",
   "metadata": {},
   "outputs": [
    {
     "data": {
      "text/plain": [
       "[28, 65, 17, 57, 8, 53, 49, 4, 65, 71]"
      ]
     },
     "execution_count": 45,
     "metadata": {},
     "output_type": "execute_result"
    }
   ],
   "source": [
    "import random\n",
    "\n",
    "liczby_losowe = []\n",
    "for i in range(10):\n",
    "    liczby_losowe.append(random.randint(0, 100))\n",
    "liczby_losowe"
   ]
  },
  {
   "cell_type": "code",
   "execution_count": 46,
   "id": "23e02366",
   "metadata": {},
   "outputs": [
    {
     "data": {
      "text/plain": [
       "[4, 8, 17, 28, 49, 53, 57, 65, 65, 71]"
      ]
     },
     "execution_count": 46,
     "metadata": {},
     "output_type": "execute_result"
    }
   ],
   "source": [
    "sorted(liczby_losowe)"
   ]
  },
  {
   "cell_type": "code",
   "execution_count": 47,
   "id": "92d72771",
   "metadata": {},
   "outputs": [
    {
     "data": {
      "text/plain": [
       "[28, 65, 17, 57, 8, 53, 49, 4, 65, 71]"
      ]
     },
     "execution_count": 47,
     "metadata": {},
     "output_type": "execute_result"
    }
   ],
   "source": [
    "liczby_losowe"
   ]
  },
  {
   "cell_type": "markdown",
   "id": "f336bfd1",
   "metadata": {},
   "source": [
    "#### Funkcja [reversed()](https://docs.python.org/3/library/functions.html#reversed)"
   ]
  },
  {
   "cell_type": "code",
   "execution_count": 50,
   "id": "9616b52e",
   "metadata": {},
   "outputs": [
    {
     "data": {
      "text/plain": [
       "<list_reverseiterator at 0x1509d3fdf70>"
      ]
     },
     "execution_count": 50,
     "metadata": {},
     "output_type": "execute_result"
    }
   ],
   "source": [
    "reversed(sorted(liczby_losowe))"
   ]
  },
  {
   "cell_type": "code",
   "execution_count": 53,
   "id": "e005c423",
   "metadata": {},
   "outputs": [
    {
     "data": {
      "text/plain": [
       "[71, 65, 65, 57, 53, 49, 28, 17, 8, 4]"
      ]
     },
     "execution_count": 53,
     "metadata": {},
     "output_type": "execute_result"
    }
   ],
   "source": [
    "list(reversed(sorted(liczby_losowe)))"
   ]
  },
  {
   "cell_type": "code",
   "execution_count": 54,
   "id": "cac63939",
   "metadata": {},
   "outputs": [
    {
     "data": {
      "text/plain": [
       "[28, 65, 17, 57, 8, 53, 49, 4, 65, 71]"
      ]
     },
     "execution_count": 54,
     "metadata": {},
     "output_type": "execute_result"
    }
   ],
   "source": [
    "liczby_losowe"
   ]
  },
  {
   "cell_type": "markdown",
   "id": "e84acb9d",
   "metadata": {},
   "source": [
    "#### Metody klasy `list`: [sort()](https://docs.python.org/3/library/functions.html#reversed), [reverse()](https://docs.python.org/3/tutorial/datastructures.html#more-on-lists)"
   ]
  },
  {
   "cell_type": "code",
   "execution_count": 55,
   "id": "2f3b1771",
   "metadata": {},
   "outputs": [
    {
     "data": {
      "text/plain": [
       "[4, 8, 17, 28, 49, 53, 57, 65, 65, 71]"
      ]
     },
     "execution_count": 55,
     "metadata": {},
     "output_type": "execute_result"
    }
   ],
   "source": [
    "liczby_losowe.sort()\n",
    "liczby_losowe"
   ]
  },
  {
   "cell_type": "code",
   "execution_count": 56,
   "id": "a4c48f41",
   "metadata": {},
   "outputs": [
    {
     "data": {
      "text/plain": [
       "[71, 65, 65, 57, 53, 49, 28, 17, 8, 4]"
      ]
     },
     "execution_count": 56,
     "metadata": {},
     "output_type": "execute_result"
    }
   ],
   "source": [
    "liczby_losowe.reverse()\n",
    "liczby_losowe"
   ]
  },
  {
   "cell_type": "markdown",
   "id": "db390d44",
   "metadata": {},
   "source": [
    "### Wyrażenia listowe (*list comprehension*)"
   ]
  },
  {
   "cell_type": "code",
   "execution_count": 57,
   "id": "7c4867a4",
   "metadata": {},
   "outputs": [
    {
     "data": {
      "text/plain": [
       "[28, 81, 12, 40, 69, 31, 24, 16, 2, 53]"
      ]
     },
     "execution_count": 57,
     "metadata": {},
     "output_type": "execute_result"
    }
   ],
   "source": [
    "import random\n",
    "\n",
    "liczby_losowe = []\n",
    "for i in range(10):\n",
    "    liczby_losowe.append(random.randint(0, 100))\n",
    "liczby_losowe"
   ]
  },
  {
   "cell_type": "code",
   "execution_count": 58,
   "id": "d6862852",
   "metadata": {},
   "outputs": [
    {
     "data": {
      "text/plain": [
       "[40, 27, 72, 74, 27, 71, 23, 23, 89, 84]"
      ]
     },
     "execution_count": 58,
     "metadata": {},
     "output_type": "execute_result"
    }
   ],
   "source": [
    "liczby_losowe = [random.randint(0, 100) for i in range(10)]\n",
    "liczby_losowe"
   ]
  },
  {
   "cell_type": "code",
   "execution_count": 59,
   "id": "6063d9de",
   "metadata": {},
   "outputs": [
    {
     "data": {
      "text/plain": [
       "[0, 1, 4, 9, 16, 25, 36, 49, 64, 81]"
      ]
     },
     "execution_count": 59,
     "metadata": {},
     "output_type": "execute_result"
    }
   ],
   "source": [
    "kwadraty_liczb = [i**2 for i in range(10)]\n",
    "kwadraty_liczb"
   ]
  },
  {
   "cell_type": "markdown",
   "id": "abfa6ed9",
   "metadata": {},
   "source": [
    "## Krotka (*tuple*)\n",
    "\n",
    "* przechowuje elementy w określonej kolejności\n",
    "* dostęp do elementów krotki zapewniają ich indeksy\n",
    "* **nie może być modyfikowana po utworzeniu**\n",
    "\n",
    "[docs.python](https://docs.python.org/3/tutorial/datastructures.html#tuples-and-sequences)"
   ]
  },
  {
   "cell_type": "code",
   "execution_count": 60,
   "id": "216668fd",
   "metadata": {},
   "outputs": [
    {
     "name": "stdout",
     "output_type": "stream",
     "text": [
      "<class 'tuple'>\n"
     ]
    }
   ],
   "source": [
    "litery = ('a', 'b', 'c')\n",
    "print(type(litery))"
   ]
  },
  {
   "cell_type": "code",
   "execution_count": 61,
   "id": "8ea40480",
   "metadata": {},
   "outputs": [
    {
     "data": {
      "text/plain": [
       "3"
      ]
     },
     "execution_count": 61,
     "metadata": {},
     "output_type": "execute_result"
    }
   ],
   "source": [
    "len(litery)"
   ]
  },
  {
   "cell_type": "code",
   "execution_count": 63,
   "id": "bf6c0d9c",
   "metadata": {},
   "outputs": [
    {
     "data": {
      "text/plain": [
       "('a', 'b', 'c')"
      ]
     },
     "execution_count": 63,
     "metadata": {},
     "output_type": "execute_result"
    }
   ],
   "source": [
    "litery[:]"
   ]
  },
  {
   "cell_type": "code",
   "execution_count": 64,
   "id": "0d412559",
   "metadata": {},
   "outputs": [
    {
     "ename": "TypeError",
     "evalue": "'tuple' object does not support item assignment",
     "output_type": "error",
     "traceback": [
      "\u001b[1;31m---------------------------------------------------------------------------\u001b[0m",
      "\u001b[1;31mTypeError\u001b[0m                                 Traceback (most recent call last)",
      "\u001b[1;32m~\\AppData\\Local\\Temp\\ipykernel_1368\\1761856242.py\u001b[0m in \u001b[0;36m<module>\u001b[1;34m\u001b[0m\n\u001b[1;32m----> 1\u001b[1;33m \u001b[0mlitery\u001b[0m\u001b[1;33m[\u001b[0m\u001b[1;36m0\u001b[0m\u001b[1;33m]\u001b[0m \u001b[1;33m=\u001b[0m \u001b[1;34m'x'\u001b[0m\u001b[1;33m\u001b[0m\u001b[1;33m\u001b[0m\u001b[0m\n\u001b[0m",
      "\u001b[1;31mTypeError\u001b[0m: 'tuple' object does not support item assignment"
     ]
    }
   ],
   "source": [
    "litery[0] = 'x'"
   ]
  },
  {
   "cell_type": "code",
   "execution_count": 65,
   "id": "234863c9",
   "metadata": {},
   "outputs": [
    {
     "ename": "AttributeError",
     "evalue": "'tuple' object has no attribute 'append'",
     "output_type": "error",
     "traceback": [
      "\u001b[1;31m---------------------------------------------------------------------------\u001b[0m",
      "\u001b[1;31mAttributeError\u001b[0m                            Traceback (most recent call last)",
      "\u001b[1;32m~\\AppData\\Local\\Temp\\ipykernel_1368\\919433701.py\u001b[0m in \u001b[0;36m<module>\u001b[1;34m\u001b[0m\n\u001b[1;32m----> 1\u001b[1;33m \u001b[0mlitery\u001b[0m\u001b[1;33m.\u001b[0m\u001b[0mappend\u001b[0m\u001b[1;33m(\u001b[0m\u001b[1;34m'd'\u001b[0m\u001b[1;33m)\u001b[0m\u001b[1;33m\u001b[0m\u001b[1;33m\u001b[0m\u001b[0m\n\u001b[0m",
      "\u001b[1;31mAttributeError\u001b[0m: 'tuple' object has no attribute 'append'"
     ]
    }
   ],
   "source": [
    "litery.append('d')"
   ]
  },
  {
   "cell_type": "code",
   "execution_count": 66,
   "id": "9fc74c05",
   "metadata": {},
   "outputs": [
    {
     "data": {
      "text/plain": [
       "('a', 'b', 'c', 'd', 'e', 'f')"
      ]
     },
     "execution_count": 66,
     "metadata": {},
     "output_type": "execute_result"
    }
   ],
   "source": [
    "('a', 'b', 'c') + ('d', 'e', 'f')"
   ]
  },
  {
   "cell_type": "code",
   "execution_count": 70,
   "id": "e8f766ed",
   "metadata": {},
   "outputs": [
    {
     "data": {
      "text/plain": [
       "(tuple, 1)"
      ]
     },
     "execution_count": 70,
     "metadata": {},
     "output_type": "execute_result"
    }
   ],
   "source": [
    "krotka_jednoelementowa = ('xyz', ) \n",
    "type(krotka_jednoelementowa), len(krotka_jednoelementowa)"
   ]
  },
  {
   "cell_type": "code",
   "execution_count": 71,
   "id": "18922f83",
   "metadata": {},
   "outputs": [
    {
     "data": {
      "text/plain": [
       "(tuple, 0)"
      ]
     },
     "execution_count": 71,
     "metadata": {},
     "output_type": "execute_result"
    }
   ],
   "source": [
    "pusta_krotka = ()\n",
    "type(pusta_krotka), len(pusta_krotka)"
   ]
  },
  {
   "cell_type": "markdown",
   "id": "5a438ce2",
   "metadata": {},
   "source": [
    "### Zamiana zmiennych"
   ]
  },
  {
   "cell_type": "code",
   "execution_count": 72,
   "id": "f5527d56",
   "metadata": {},
   "outputs": [
    {
     "name": "stdout",
     "output_type": "stream",
     "text": [
      "a: 1   b: 2\n"
     ]
    }
   ],
   "source": [
    "a = 1\n",
    "b = 2\n",
    "print(\"a:\", a, \"  b:\", b)"
   ]
  },
  {
   "cell_type": "code",
   "execution_count": 75,
   "id": "65a26431",
   "metadata": {},
   "outputs": [
    {
     "name": "stdout",
     "output_type": "stream",
     "text": [
      "a: 2   b: 1\n"
     ]
    }
   ],
   "source": [
    "(a, b) = (b, a)\n",
    "print(\"a:\", a, \"  b:\", b)"
   ]
  },
  {
   "cell_type": "markdown",
   "id": "fbf2cc0b",
   "metadata": {},
   "source": [
    "### Funkcja [enumerate()](https://docs.python.org/3/library/functions.html#enumerate)"
   ]
  },
  {
   "cell_type": "code",
   "execution_count": 76,
   "id": "53d4bc3e",
   "metadata": {},
   "outputs": [
    {
     "data": {
      "text/plain": [
       "['A', 'B', 'C', 'D', 'E']"
      ]
     },
     "execution_count": 76,
     "metadata": {},
     "output_type": "execute_result"
    }
   ],
   "source": [
    "litery = [chr(i) for i in range(65, 70)]\n",
    "litery"
   ]
  },
  {
   "cell_type": "code",
   "execution_count": 77,
   "id": "5c8e7141",
   "metadata": {},
   "outputs": [
    {
     "name": "stdout",
     "output_type": "stream",
     "text": [
      "0 A\n",
      "1 B\n",
      "2 C\n",
      "3 D\n",
      "4 E\n"
     ]
    }
   ],
   "source": [
    "for index in range(len(litery)):\n",
    "    print(index, litery[index])"
   ]
  },
  {
   "cell_type": "code",
   "execution_count": 79,
   "id": "0a936b42",
   "metadata": {},
   "outputs": [
    {
     "name": "stdout",
     "output_type": "stream",
     "text": [
      "0 A\n",
      "1 B\n",
      "2 C\n",
      "3 D\n",
      "4 E\n"
     ]
    }
   ],
   "source": [
    "for (index, litera) in enumerate(litery):\n",
    "    print(index, litera)"
   ]
  },
  {
   "cell_type": "markdown",
   "id": "5627ed1e",
   "metadata": {},
   "source": [
    "### Funkcja [zip()](https://docs.python.org/3/library/functions.html#zip)"
   ]
  },
  {
   "cell_type": "code",
   "execution_count": 80,
   "id": "a11f0998",
   "metadata": {},
   "outputs": [
    {
     "data": {
      "text/plain": [
       "[1, 11, 21, 31, 41, 51, 61, 71, 81, 91]"
      ]
     },
     "execution_count": 80,
     "metadata": {},
     "output_type": "execute_result"
    }
   ],
   "source": [
    "liczby = [10 * i + 1 for i in range(10)]\n",
    "liczby"
   ]
  },
  {
   "cell_type": "code",
   "execution_count": 81,
   "id": "e9a590d8",
   "metadata": {},
   "outputs": [
    {
     "name": "stdout",
     "output_type": "stream",
     "text": [
      "['a', 'b', 'c', 'd', 'e']\n"
     ]
    }
   ],
   "source": [
    "male_litery = [chr(i) for i in range(97, 102)]\n",
    "print(male_litery)"
   ]
  },
  {
   "cell_type": "code",
   "execution_count": 83,
   "id": "b0a44f87",
   "metadata": {},
   "outputs": [
    {
     "data": {
      "text/plain": [
       "[(1, 'A'), (11, 'B'), (21, 'C'), (31, 'D'), (41, 'E')]"
      ]
     },
     "execution_count": 83,
     "metadata": {},
     "output_type": "execute_result"
    }
   ],
   "source": [
    "list(zip(liczby, litery))"
   ]
  },
  {
   "cell_type": "markdown",
   "id": "1fc2c8e5",
   "metadata": {},
   "source": [
    "### Wyrażenia krotkowe (*tuple comprehension*)"
   ]
  },
  {
   "cell_type": "code",
   "execution_count": 88,
   "id": "f4392023",
   "metadata": {},
   "outputs": [
    {
     "data": {
      "text/plain": [
       "<generator object <genexpr> at 0x000001509D51C430>"
      ]
     },
     "execution_count": 88,
     "metadata": {},
     "output_type": "execute_result"
    }
   ],
   "source": [
    "kwadraty_liczb = (i**2 for i in range(10))\n",
    "kwadraty_liczb"
   ]
  },
  {
   "cell_type": "code",
   "execution_count": 89,
   "id": "9c944656",
   "metadata": {},
   "outputs": [
    {
     "data": {
      "text/plain": [
       "[0, 1, 4, 9, 16, 25, 36, 49, 64, 81]"
      ]
     },
     "execution_count": 89,
     "metadata": {},
     "output_type": "execute_result"
    }
   ],
   "source": [
    "list(kwadraty_liczb)"
   ]
  },
  {
   "cell_type": "markdown",
   "id": "b8830885",
   "metadata": {},
   "source": [
    "## Słownik\n",
    "\n",
    "* elementami słownika są pary: klucz - wartość\n",
    "* klucz może byc liczbą, napisem lub obiektem dowolnego typu o ustalonej wartości (hashable)\n",
    "* klucze są unikalne\n",
    "* wartość powiązana z kluczem może być dowolnego typu, np. listą, słownikiem\n",
    "* dostęp do elementów słownika zapewniaja ich klucze\n",
    "* słownik **nie gwarantuje przechowywania elementów w ustalonej kolejności**\n",
    "\n",
    "[docs.python](https://docs.python.org/3/tutorial/datastructures.html#dictionaries)"
   ]
  },
  {
   "cell_type": "code",
   "execution_count": null,
   "id": "39e19f43",
   "metadata": {},
   "outputs": [],
   "source": [
    "db_cfg = {\n",
    "    \"host\": \"127.0.0.1\",\n",
    "    \"port\": [3306, 3307, 3308],\n",
    "    \"dbname\": {\"db1\": \"test_db\", \"db2\": \"test_db2\"},\n",
    "    \"user\": \"test_user\",\n",
    "    \"passwd\": \"test_passwd\",\n",
    "}\n",
    "print(type(db_cfg))"
   ]
  },
  {
   "cell_type": "code",
   "execution_count": null,
   "id": "44d89543",
   "metadata": {},
   "outputs": [],
   "source": [
    "len(db_cfg)"
   ]
  },
  {
   "cell_type": "code",
   "execution_count": null,
   "id": "14b0a023",
   "metadata": {},
   "outputs": [],
   "source": [
    "db_cfg['host']"
   ]
  },
  {
   "cell_type": "code",
   "execution_count": null,
   "id": "854f407d",
   "metadata": {},
   "outputs": [],
   "source": [
    "db_cfg['host'] = 'localhost'\n",
    "db_cfg"
   ]
  },
  {
   "cell_type": "code",
   "execution_count": null,
   "id": "b8d75ba0",
   "metadata": {},
   "outputs": [],
   "source": [
    "db_cfg['abc']"
   ]
  },
  {
   "cell_type": "code",
   "execution_count": null,
   "id": "13b37ded",
   "metadata": {},
   "outputs": [],
   "source": [
    "'abc' in db_cfg"
   ]
  },
  {
   "cell_type": "code",
   "execution_count": null,
   "id": "f80d6e5a",
   "metadata": {},
   "outputs": [],
   "source": [
    "db_cfg.get('abc', 'default')"
   ]
  },
  {
   "cell_type": "code",
   "execution_count": null,
   "id": "adc83be1",
   "metadata": {},
   "outputs": [],
   "source": [
    "db_cfg"
   ]
  },
  {
   "cell_type": "code",
   "execution_count": null,
   "id": "29bcd454",
   "metadata": {},
   "outputs": [],
   "source": [
    "db_cfg['abc'] = 'default'\n",
    "db_cfg"
   ]
  },
  {
   "cell_type": "code",
   "execution_count": null,
   "id": "ba8782cf",
   "metadata": {},
   "outputs": [],
   "source": [
    "db_cfg.pop('abc')\n",
    "db_cfg"
   ]
  },
  {
   "cell_type": "code",
   "execution_count": null,
   "id": "9cb4a0c1",
   "metadata": {},
   "outputs": [],
   "source": [
    "pusty_slownik = {}\n",
    "pusty_slownik"
   ]
  },
  {
   "cell_type": "markdown",
   "id": "4228f378",
   "metadata": {},
   "source": [
    "#### Metody [keys()](https://docs.python.org/3/library/stdtypes.html#dict.keys), [values()](https://docs.python.org/3/library/stdtypes.html#dict.values), [items()](https://docs.python.org/3/library/stdtypes.html#dict.items)"
   ]
  },
  {
   "cell_type": "code",
   "execution_count": null,
   "id": "9d9fb3f9",
   "metadata": {},
   "outputs": [],
   "source": [
    "for key in db_cfg.keys():\n",
    "    print(key)"
   ]
  },
  {
   "cell_type": "code",
   "execution_count": null,
   "id": "76c13167",
   "metadata": {},
   "outputs": [],
   "source": [
    "for value in db_cfg.values():\n",
    "    print(value)"
   ]
  },
  {
   "cell_type": "code",
   "execution_count": null,
   "id": "0d116a2b",
   "metadata": {},
   "outputs": [],
   "source": [
    "for key, value in db_cfg.items():\n",
    "    print(key, value)"
   ]
  },
  {
   "cell_type": "markdown",
   "id": "1dc346dc",
   "metadata": {},
   "source": [
    "### Wyrażenia słownikowe (*dictionary comprehension*)"
   ]
  },
  {
   "cell_type": "code",
   "execution_count": null,
   "id": "ae7b8f9e",
   "metadata": {},
   "outputs": [],
   "source": [
    "kody_ascii = {}\n",
    "for i in range(64, 76):\n",
    "    kody_ascii[chr(i)] = i\n",
    "print(kody_ascii)"
   ]
  },
  {
   "cell_type": "code",
   "execution_count": null,
   "id": "4c0f8e5d",
   "metadata": {},
   "outputs": [],
   "source": [
    "kody_ascii = {chr(i): i for i in range(64, 76)}\n",
    "print(kody_ascii)"
   ]
  },
  {
   "cell_type": "markdown",
   "id": "d2e08540",
   "metadata": {},
   "source": [
    "## Zbiór\n",
    "\n",
    "* przechowuje elementy dowolnego typu o ustalonej wartości (*hashable*)\n",
    "* zapewnia unikalność elementów\n",
    "* **nie gwarantuje przechowywania elementów w ustalonej kolejności**"
   ]
  },
  {
   "cell_type": "code",
   "execution_count": null,
   "id": "8aa2d58c",
   "metadata": {},
   "outputs": [],
   "source": [
    "kierunki_weiti = {\"AIR\", \"CS (EN)\", \"CYBER\", \"ELKA\", \"IBM\", \"IIT\", \"INF\", \"TELE (EN)\", \"TELE\"}\n",
    "kierunki_weiti"
   ]
  },
  {
   "cell_type": "code",
   "execution_count": null,
   "id": "a5aa099c",
   "metadata": {},
   "outputs": [],
   "source": [
    " print(type(kierunki_weiti))"
   ]
  },
  {
   "cell_type": "code",
   "execution_count": null,
   "id": "6acfafdc",
   "metadata": {},
   "outputs": [],
   "source": [
    "len(kierunki_weiti)"
   ]
  },
  {
   "cell_type": "code",
   "execution_count": null,
   "id": "9935ab7b",
   "metadata": {},
   "outputs": [],
   "source": [
    "\"TELE\" in kierunki_weiti"
   ]
  },
  {
   "cell_type": "code",
   "execution_count": null,
   "id": "d052731f",
   "metadata": {},
   "outputs": [],
   "source": [
    "\"Telekomunikacja\" in kierunki_weiti"
   ]
  },
  {
   "cell_type": "code",
   "execution_count": null,
   "id": "7df24b36",
   "metadata": {},
   "outputs": [],
   "source": [
    "{\"TELE (EN)\", \"TELE\"}.issubset(kierunki_weiti)"
   ]
  },
  {
   "cell_type": "code",
   "execution_count": null,
   "id": "ec6ace26",
   "metadata": {},
   "outputs": [],
   "source": [
    "kierunki_weiti.issuperset({\"TELE (EN)\", \"TELE\"})"
   ]
  },
  {
   "cell_type": "code",
   "execution_count": null,
   "id": "c0170615",
   "metadata": {},
   "outputs": [],
   "source": [
    "kierunki_weiti.add(\"Matematyka\")\n",
    "kierunki_weiti"
   ]
  },
  {
   "cell_type": "code",
   "execution_count": null,
   "id": "abd3ed55",
   "metadata": {},
   "outputs": [],
   "source": [
    "kierunki_weiti.add(\"ELKA\")\n",
    "kierunki_weiti"
   ]
  },
  {
   "cell_type": "code",
   "execution_count": null,
   "id": "0669d637",
   "metadata": {},
   "outputs": [],
   "source": [
    "kierunki_weiti.remove(\"Matematyka\")\n",
    "kierunki_weiti"
   ]
  },
  {
   "cell_type": "code",
   "execution_count": null,
   "id": "06303ca1",
   "metadata": {},
   "outputs": [],
   "source": [
    "kierunki_mini = {\"Matematyka\", \n",
    "                 \"Matematyka i Analiza Danych\", \n",
    "                 \"Informatyka i Systemy Informacyjne\", \n",
    "                 \"Computer Science and Information Systems\", \n",
    "                 \"Inżynieria i Analiza Danych\"\n",
    "                }\n",
    "kierunki_mini"
   ]
  },
  {
   "cell_type": "code",
   "execution_count": null,
   "id": "2caf6dd6",
   "metadata": {},
   "outputs": [],
   "source": [
    "kierunki_mini.union(kierunki_weiti)"
   ]
  },
  {
   "cell_type": "code",
   "execution_count": null,
   "id": "87824276",
   "metadata": {},
   "outputs": [],
   "source": [
    "kierunki_mini.intersection(kierunki_weiti)"
   ]
  },
  {
   "cell_type": "code",
   "execution_count": null,
   "id": "6158bf21",
   "metadata": {},
   "outputs": [],
   "source": [
    "pusty_zbior = set()\n",
    "print(type(pusty_zbior))"
   ]
  },
  {
   "cell_type": "code",
   "execution_count": null,
   "id": "b5665e7e",
   "metadata": {},
   "outputs": [],
   "source": [
    "for kierunek in kierunki_weiti:\n",
    "    print(kierunek, type(kierunek))"
   ]
  },
  {
   "cell_type": "code",
   "execution_count": null,
   "id": "149f2f95",
   "metadata": {},
   "outputs": [],
   "source": []
  }
 ],
 "metadata": {
  "kernelspec": {
   "display_name": "Python 3 (ipykernel)",
   "language": "python",
   "name": "python3"
  },
  "language_info": {
   "codemirror_mode": {
    "name": "ipython",
    "version": 3
   },
   "file_extension": ".py",
   "mimetype": "text/x-python",
   "name": "python",
   "nbconvert_exporter": "python",
   "pygments_lexer": "ipython3",
   "version": "3.9.13"
  }
 },
 "nbformat": 4,
 "nbformat_minor": 5
}
