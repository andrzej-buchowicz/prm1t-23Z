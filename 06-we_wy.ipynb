{
 "cells": [
  {
   "cell_type": "markdown",
   "id": "11b5187e-348f-42ad-97fb-56e2b9af0fbf",
   "metadata": {},
   "source": [
    "<div style=\"text-align: center; color: #7896cf; font-size: 32px; font-weight: bold; font-family: Arial, Helvetica, sans-serif; padding-bottom: 12px;\">PODSTAWY PROGRAMOWANIA 1</div>\n",
    "<div style=\"text-align: center; color: #3c3c4c; font-size: large; font-family:monospace; padding-bottom:18px;\"> andrzej.buchowicz@pw.edu.pl</div>\n",
    "<div style=\"text-align: center; font-size: 48px; font-family: Arial, Helvetica, sans-serif; padding-bottom: 24px; line-height: 1.25;\">Operacje wejścia-wyjścia, odczyt/zapis danych z/do plików</div>\n"
   ]
  },
  {
   "cell_type": "markdown",
   "id": "e7da6b21",
   "metadata": {},
   "source": [
    "## Strumienie standardowe"
   ]
  },
  {
   "cell_type": "code",
   "execution_count": null,
   "id": "1f2b1362",
   "metadata": {},
   "outputs": [],
   "source": [
    "input(\"Wpisz coś:\")"
   ]
  },
  {
   "cell_type": "code",
   "execution_count": null,
   "id": "94c6012c",
   "metadata": {},
   "outputs": [],
   "source": [
    "print(\"stdout\")"
   ]
  },
  {
   "cell_type": "code",
   "execution_count": null,
   "id": "025f3b7d",
   "metadata": {},
   "outputs": [],
   "source": [
    "import sys\n",
    "print(\"stderr\", file=sys.stderr)"
   ]
  },
  {
   "cell_type": "markdown",
   "id": "475aaae0",
   "metadata": {},
   "source": [
    "## Strumienie udostępniane przez system plików"
   ]
  },
  {
   "cell_type": "markdown",
   "id": "707590f7",
   "metadata": {},
   "source": [
    "### Odczyt danych z plików"
   ]
  },
  {
   "cell_type": "markdown",
   "id": "c88e8940",
   "metadata": {},
   "source": [
    "#### Tryb tekstowy"
   ]
  },
  {
   "cell_type": "code",
   "execution_count": null,
   "id": "a1d21c85",
   "metadata": {},
   "outputs": [],
   "source": [
    "file = open('data/weiti.txt', 'r')\n",
    "type(file)"
   ]
  },
  {
   "cell_type": "markdown",
   "id": "ca09b88a",
   "metadata": {},
   "source": [
    "##### Metoda [read()](https://docs.python.org/3/library/io.html#io.TextIOBase.read)"
   ]
  },
  {
   "cell_type": "code",
   "execution_count": null,
   "id": "7cac866a",
   "metadata": {},
   "outputs": [],
   "source": [
    "data = file.read()\n",
    "print(data)"
   ]
  },
  {
   "cell_type": "code",
   "execution_count": null,
   "id": "77af8126",
   "metadata": {},
   "outputs": [],
   "source": [
    "file.close()"
   ]
  },
  {
   "cell_type": "code",
   "execution_count": null,
   "id": "0910c362",
   "metadata": {},
   "outputs": [],
   "source": [
    "with open('data/weiti.txt') as file:\n",
    "    data = file.read()\n",
    "    print(data)"
   ]
  },
  {
   "cell_type": "markdown",
   "id": "7f1b49fc",
   "metadata": {},
   "source": [
    "##### Metoda [readline()](https://docs.python.org/3/library/io.html#io.TextIOBase.readline)"
   ]
  },
  {
   "cell_type": "code",
   "execution_count": null,
   "id": "300efb5e",
   "metadata": {},
   "outputs": [],
   "source": [
    "with open('data/weiti.txt') as file:\n",
    "    while True:\n",
    "        line = file.readline()\n",
    "        if not line:\n",
    "            break\n",
    "        print(line, end='')"
   ]
  },
  {
   "cell_type": "markdown",
   "id": "54a41d41",
   "metadata": {},
   "source": [
    "##### Pętla `for`"
   ]
  },
  {
   "cell_type": "code",
   "execution_count": null,
   "id": "32619d11",
   "metadata": {},
   "outputs": [],
   "source": [
    "with open('data/weiti.txt') as file:\n",
    "    for line in file:\n",
    "        print(line, end='')"
   ]
  },
  {
   "cell_type": "markdown",
   "id": "040a8cad",
   "metadata": {},
   "source": [
    "##### Metoda [readlines()](https://docs.python.org/3/library/io.html#io.IOBase.readlines)"
   ]
  },
  {
   "cell_type": "code",
   "execution_count": null,
   "id": "6c72d0dd",
   "metadata": {},
   "outputs": [],
   "source": [
    "with open('data/weiti.txt') as file:\n",
    "    lines = file.readlines()\n",
    "    for line in lines:\n",
    "        print(line, end='')"
   ]
  },
  {
   "cell_type": "markdown",
   "id": "fd6bffbc",
   "metadata": {},
   "source": [
    "#### Tryb binarny"
   ]
  },
  {
   "cell_type": "code",
   "execution_count": null,
   "id": "5591f87e",
   "metadata": {},
   "outputs": [],
   "source": [
    "with open(\"img/moduly_pakiety.png\", \"rb\") as file:\n",
    "    data = file.read()\n",
    "    print(type(file), type(data), len(data))"
   ]
  },
  {
   "cell_type": "code",
   "execution_count": null,
   "id": "8d52f8cd",
   "metadata": {},
   "outputs": [],
   "source": [
    "data[:100]"
   ]
  },
  {
   "cell_type": "code",
   "execution_count": null,
   "id": "6a6b81fc",
   "metadata": {},
   "outputs": [],
   "source": [
    "data.decode()"
   ]
  },
  {
   "cell_type": "markdown",
   "id": "9114c433",
   "metadata": {},
   "source": [
    "### Zapis danych do pliku"
   ]
  },
  {
   "cell_type": "markdown",
   "id": "d4f2622b",
   "metadata": {},
   "source": [
    "#### Tryb tekstowy"
   ]
  },
  {
   "cell_type": "code",
   "execution_count": null,
   "id": "352a7357",
   "metadata": {},
   "outputs": [],
   "source": [
    "przedmioty = [\"Algebra\", \n",
    "              \"Analiza 1\", \n",
    "              \"Analiza 2\", \n",
    "              \"Probabilistyka\", \n",
    "              \"Elementy elektroniczne\", \n",
    "              \"Podstawy elektroniki pomiarów 1\", \n",
    "              \"Podstawy elektroniki pomiarów 2\", \n",
    "              \"Układy elektroniczne\"]\n",
    "              \n",
    "with open('data/przedmioty.txt', \"w\", encoding='utf-8') as file:\n",
    "    for przedmiot in przedmioty:\n",
    "        file.write(przedmiot + '\\n')"
   ]
  },
  {
   "cell_type": "markdown",
   "id": "25bf5ff3",
   "metadata": {},
   "source": [
    "#### Tryb binarny"
   ]
  },
  {
   "cell_type": "code",
   "execution_count": null,
   "id": "9d0afccd",
   "metadata": {},
   "outputs": [],
   "source": [
    "ascii = bytes(range(32, 128))\n",
    "with open(\"data/ascii.bin\", \"wb\") as file:\n",
    "    file.write(ascii)"
   ]
  },
  {
   "cell_type": "markdown",
   "id": "0865bafa",
   "metadata": {},
   "source": [
    "### Przetwarzanie ścieżek w systemie plików - modul os.path"
   ]
  },
  {
   "cell_type": "code",
   "execution_count": null,
   "id": "0a291a1f",
   "metadata": {},
   "outputs": [],
   "source": [
    "import os\n",
    "\n",
    "os.path.abspath('data/przedmioty.txt')"
   ]
  },
  {
   "cell_type": "code",
   "execution_count": null,
   "id": "314f3985",
   "metadata": {},
   "outputs": [],
   "source": [
    "os.path.basename('data/przedmioty.txt')"
   ]
  },
  {
   "cell_type": "code",
   "execution_count": null,
   "id": "83c0b57c",
   "metadata": {},
   "outputs": [],
   "source": [
    "os.path.splitext('przedmioty.txt')"
   ]
  },
  {
   "cell_type": "code",
   "execution_count": null,
   "id": "42fbec3d",
   "metadata": {},
   "outputs": [],
   "source": [
    "os.path.exists('data/przedmioty.txt')"
   ]
  },
  {
   "cell_type": "code",
   "execution_count": null,
   "id": "ce16ab89",
   "metadata": {},
   "outputs": [],
   "source": [
    "os.path.isfile('data/przedmioty.txt')"
   ]
  },
  {
   "cell_type": "code",
   "execution_count": null,
   "id": "3820d4f2",
   "metadata": {},
   "outputs": [],
   "source": [
    "os.path.isdir('data/przedmioty.txt')"
   ]
  },
  {
   "cell_type": "code",
   "execution_count": null,
   "id": "9141184a",
   "metadata": {},
   "outputs": [],
   "source": [
    "os.path.getsize('data/przedmioty.txt')"
   ]
  },
  {
   "cell_type": "markdown",
   "id": "db97a635",
   "metadata": {},
   "source": [
    "#### Lista plików w katalogu"
   ]
  },
  {
   "cell_type": "code",
   "execution_count": null,
   "id": "f8adf380",
   "metadata": {},
   "outputs": [],
   "source": [
    "files = os.listdir('data')\n",
    "for file in files:\n",
    "    print(file)"
   ]
  },
  {
   "cell_type": "markdown",
   "id": "feb3c0da",
   "metadata": {},
   "source": [
    "#### Lista plików w strukturze katalogowej - funkcja [os.walk()](walk)"
   ]
  },
  {
   "cell_type": "markdown",
   "id": "c2165662",
   "metadata": {},
   "source": [
    "#### Utworzenie ścieżki do pliku - metoda [os.path.join()](https://docs.python.org/3/library/os.path.html#os.path.join)"
   ]
  },
  {
   "cell_type": "code",
   "execution_count": null,
   "id": "888b507e",
   "metadata": {},
   "outputs": [],
   "source": [
    "os.path.join(os.getcwd(), 'data', files[0])"
   ]
  }
 ],
 "metadata": {
  "kernelspec": {
   "display_name": "Python 3 (ipykernel)",
   "language": "python",
   "name": "python3"
  },
  "language_info": {
   "codemirror_mode": {
    "name": "ipython",
    "version": 3
   },
   "file_extension": ".py",
   "mimetype": "text/x-python",
   "name": "python",
   "nbconvert_exporter": "python",
   "pygments_lexer": "ipython3",
   "version": "3.9.13"
  }
 },
 "nbformat": 4,
 "nbformat_minor": 5
}
