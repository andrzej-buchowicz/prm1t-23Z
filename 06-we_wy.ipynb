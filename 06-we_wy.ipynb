{
 "cells": [
  {
   "cell_type": "markdown",
   "id": "11b5187e-348f-42ad-97fb-56e2b9af0fbf",
   "metadata": {},
   "source": [
    "<div style=\"text-align: center; color: #7896cf; font-size: 32px; font-weight: bold; font-family: Arial, Helvetica, sans-serif; padding-bottom: 12px;\">PODSTAWY PROGRAMOWANIA 1</div>\n",
    "<div style=\"text-align: center; color: #3c3c4c; font-size: large; font-family:monospace; padding-bottom:18px;\"> andrzej.buchowicz@pw.edu.pl</div>\n",
    "<div style=\"text-align: center; font-size: 48px; font-family: Arial, Helvetica, sans-serif; padding-bottom: 24px; line-height: 1.25;\">Operacje wejścia-wyjścia, odczyt/zapis danych z/do plików</div>\n"
   ]
  },
  {
   "cell_type": "markdown",
   "id": "e7da6b21",
   "metadata": {},
   "source": [
    "## Strumienie standardowe\n",
    "\n",
    "<div style=\"padding-bottom: 36px; padding-top: 36px;\"><img src=\"img/std_stream.png\"></div>"
   ]
  },
  {
   "cell_type": "code",
   "execution_count": 5,
   "id": "1f2b1362",
   "metadata": {},
   "outputs": [
    {
     "name": "stdout",
     "output_type": "stream",
     "text": [
      "Wpisz coś:adasdasdas\n"
     ]
    },
    {
     "data": {
      "text/plain": [
       "'adasdasdas'"
      ]
     },
     "execution_count": 5,
     "metadata": {},
     "output_type": "execute_result"
    }
   ],
   "source": [
    "input(\"Wpisz coś:\")"
   ]
  },
  {
   "cell_type": "code",
   "execution_count": 6,
   "id": "94c6012c",
   "metadata": {},
   "outputs": [
    {
     "name": "stdout",
     "output_type": "stream",
     "text": [
      "stdout\n"
     ]
    }
   ],
   "source": [
    "print(\"stdout\")"
   ]
  },
  {
   "cell_type": "code",
   "execution_count": 7,
   "id": "025f3b7d",
   "metadata": {},
   "outputs": [
    {
     "name": "stderr",
     "output_type": "stream",
     "text": [
      "stderr\n"
     ]
    }
   ],
   "source": [
    "import sys\n",
    "print(\"stderr\", file=sys.stderr)"
   ]
  },
  {
   "cell_type": "markdown",
   "id": "cb4ee26a",
   "metadata": {},
   "source": [
    "## Parametry przekazywane przez linię poleceń\n",
    "\n",
    "<div style=\"padding-bottom: 36px; padding-top: 36px;\"><img src=\"img/std_stream_argv.png\"></div>\n",
    "\n",
    "* zmienna `sys.argv`\n",
    "<br><br>"
   ]
  },
  {
   "cell_type": "markdown",
   "id": "91cffa10",
   "metadata": {},
   "source": [
    "## Parametry przekazywane przez zmienne systemowe\n",
    "\n",
    "* zmienna `os.environ`"
   ]
  },
  {
   "cell_type": "code",
   "execution_count": 8,
   "id": "0cc8a418",
   "metadata": {},
   "outputs": [
    {
     "data": {
      "text/plain": [
       "environ{'ALLUSERSPROFILE': 'C:\\\\ProgramData',\n",
       "        'APPDATA': 'C:\\\\Users\\\\Andrzej\\\\AppData\\\\Roaming',\n",
       "        'CHOCOLATEYINSTALL': 'C:\\\\ProgramData\\\\chocolatey',\n",
       "        'COMMONPROGRAMFILES': 'C:\\\\Program Files\\\\Common Files',\n",
       "        'COMMONPROGRAMFILES(X86)': 'C:\\\\Program Files (x86)\\\\Common Files',\n",
       "        'COMMONPROGRAMW6432': 'C:\\\\Program Files\\\\Common Files',\n",
       "        'COMPUTERNAME': 'DESKTOP-OFTF86D',\n",
       "        'COMSPEC': 'C:\\\\WINDOWS\\\\system32\\\\cmd.exe',\n",
       "        'CONDA_DEFAULT_ENV': 'base',\n",
       "        'CONDA_EXE': 'D:\\\\Andrzej\\\\Documents\\\\Anaconda3\\\\Scripts\\\\conda.exe',\n",
       "        'CONDA_PREFIX': 'D:\\\\Andrzej\\\\Documents\\\\Anaconda3',\n",
       "        'CONDA_PROMPT_MODIFIER': '(base) ',\n",
       "        'CONDA_PYTHON_EXE': 'D:\\\\Andrzej\\\\Documents\\\\Anaconda3\\\\python.exe',\n",
       "        'CONDA_SHLVL': '1',\n",
       "        'DRIVERDATA': 'C:\\\\Windows\\\\System32\\\\Drivers\\\\DriverData',\n",
       "        'FPS_BROWSER_APP_PROFILE_STRING': 'Internet Explorer',\n",
       "        'FPS_BROWSER_USER_PROFILE_STRING': 'Default',\n",
       "        'HOMEDRIVE': 'C:',\n",
       "        'HOMEPATH': '\\\\Users\\\\Andrzej',\n",
       "        'JAVA_HOME': 'D:\\\\ProgramFiles\\\\Java\\\\jdk-20',\n",
       "        'LOCALAPPDATA': 'C:\\\\Users\\\\Andrzej\\\\AppData\\\\Local',\n",
       "        'LOGONSERVER': '\\\\\\\\DESKTOP-OFTF86D',\n",
       "        'NUMBER_OF_PROCESSORS': '8',\n",
       "        'NVTOOLSEXT_PATH': 'C:\\\\Program Files\\\\NVIDIA Corporation\\\\NvToolsExt\\\\',\n",
       "        'ONEDRIVE': 'C:\\\\Users\\\\Andrzej\\\\OneDrive',\n",
       "        'ONLINESERVICES': 'Online Services',\n",
       "        'OPENCV': 'D:\\\\Andrzej\\\\Documents\\\\OpenCV\\\\opencv-3.1.0',\n",
       "        'OS': 'Windows_NT',\n",
       "        'PATH': 'D:\\\\Andrzej\\\\Documents\\\\Anaconda3;D:\\\\Andrzej\\\\Documents\\\\Anaconda3\\\\Library\\\\mingw-w64\\\\bin;D:\\\\Andrzej\\\\Documents\\\\Anaconda3\\\\Library\\\\usr\\\\bin;D:\\\\Andrzej\\\\Documents\\\\Anaconda3\\\\Library\\\\bin;D:\\\\Andrzej\\\\Documents\\\\Anaconda3\\\\Scripts;D:\\\\Andrzej\\\\Documents\\\\Anaconda3\\\\bin;D:\\\\Andrzej\\\\Documents\\\\Anaconda3\\\\condabin;C:\\\\Program Files\\\\Common Files\\\\Oracle\\\\Java\\\\javapath;C:\\\\Program Files\\\\Broadcom\\\\Broadcom 802.11 Network Adapter;C:\\\\Program Files (x86)\\\\Intel\\\\iCLS Client;C:\\\\Program Files\\\\Intel\\\\iCLS Client;C:\\\\windows\\\\system32;C:\\\\windows;C:\\\\windows\\\\System32\\\\Wbem;C:\\\\windows\\\\System32\\\\WindowsPowerShell\\\\v1.0;C:\\\\Program Files (x86)\\\\Intel\\\\Intel(R) Management Engine Components\\\\DAL;C:\\\\Program Files\\\\Intel\\\\Intel(R) Management Engine Components\\\\DAL;C:\\\\Program Files (x86)\\\\Intel\\\\Intel(R) Management Engine Components\\\\IPT;C:\\\\Program Files\\\\Intel\\\\Intel(R) Management Engine Components\\\\IPT;C:\\\\Program Files\\\\Intel\\\\IntelSGXPSW\\\\bin\\\\x64\\\\Release;C:\\\\Program Files\\\\Intel\\\\IntelSGXPSW\\\\bin\\\\win32\\\\Release;C:\\\\WINDOWS\\\\system32;C:\\\\WINDOWS;C:\\\\WINDOWS\\\\System32\\\\Wbem;C:\\\\WINDOWS\\\\System32\\\\WindowsPowerShell\\\\v1.0;D:\\\\ProgramFiles\\\\Java\\\\jdk11.0.6\\\\bin;D:\\\\ProgramFiles\\\\MikTeX\\\\miktex\\\\bin\\\\x64;D:\\\\ProgramFiles\\\\texlive\\\\2019\\\\bin\\\\win32;C:\\\\ProgramData\\\\Oracle\\\\Java\\\\javapath;C:\\\\Program Files\\\\Microsoft SQL Server\\\\110\\\\Tools\\\\Binn;C:\\\\Program Files\\\\Microsoft SQL Server\\\\120\\\\Tools\\\\Binn;D:\\\\Andrzej\\\\Documents\\\\OpenCV\\\\opencv-3.1.0\\\\build\\\\x64\\\\vc14\\\\bin;C:\\\\Program Files (x86)\\\\Microsoft SDKs\\\\TypeScript\\\\1.0.0;D:\\\\ProgramFiles\\\\Qt\\\\5.7\\\\msvc2013_64\\\\bin;D:\\\\ProgramFiles\\\\doxygen\\\\bin;C:\\\\WINDOWS\\\\System32\\\\OpenSSH;D:\\\\ProgramFiles\\\\Microsoft VS Code\\\\bin;D:\\\\ProgramFiles\\\\Graphviz2.38\\\\bin;D:\\\\ProgramFiles\\\\gradle-6.0.1-all\\\\gradle-6.0.1\\\\bin;D:\\\\ProgramFiles\\\\TortoiseHg;D:\\\\ProgramFiles\\\\TortoiseSvn\\\\bin;D:\\\\ProgramFiles\\\\CMake\\\\bin;C:\\\\WINDOWS\\\\system32;C:\\\\WINDOWS;C:\\\\WINDOWS\\\\System32\\\\Wbem;C:\\\\WINDOWS\\\\System32\\\\WindowsPowerShell\\\\v1.0;C:\\\\WINDOWS\\\\System32\\\\OpenSSH;D:\\\\ProgramFiles\\\\Putty;D:\\\\ProgramFiles\\\\Matlab\\\\R2023a\\\\bin;D:\\\\ProgramFiles\\\\TortoiseGit\\\\bin;C:\\\\Users\\\\Andrzej\\\\AppData\\\\Local\\\\Microsoft\\\\WindowsApps;D:\\\\ProgramFiles\\\\texlive\\\\2019\\\\bin\\\\win32;D:\\\\ProgramFiles\\\\apache-maven-3.6.3\\\\bin;D:\\\\ProgramFiles\\\\Git\\\\cmd',\n",
       "        'PATHEXT': '.COM;.EXE;.BAT;.CMD;.VBS;.VBE;.JS;.JSE;.WSF;.WSH;.MSC',\n",
       "        'PLATFORM': 'MCD',\n",
       "        'PLATFORMCODE': 'KV',\n",
       "        'PROCESSOR_ARCHITECTURE': 'AMD64',\n",
       "        'PROCESSOR_IDENTIFIER': 'Intel64 Family 6 Model 94 Stepping 3, GenuineIntel',\n",
       "        'PROCESSOR_LEVEL': '6',\n",
       "        'PROCESSOR_REVISION': '5e03',\n",
       "        'PROGRAMDATA': 'C:\\\\ProgramData',\n",
       "        'PROGRAMFILES': 'C:\\\\Program Files',\n",
       "        'PROGRAMFILES(X86)': 'C:\\\\Program Files (x86)',\n",
       "        'PROGRAMW6432': 'C:\\\\Program Files',\n",
       "        'PROMPT': '(base) $P$G',\n",
       "        'PSMODULEPATH': 'C:\\\\WINDOWS\\\\system32\\\\WindowsPowerShell\\\\v1.0\\\\Modules\\\\',\n",
       "        'PUBLIC': 'C:\\\\Users\\\\Public',\n",
       "        'REGIONCODE': 'EMEA',\n",
       "        'SESSIONNAME': 'Console',\n",
       "        'SYSTEMDRIVE': 'C:',\n",
       "        'SYSTEMROOT': 'C:\\\\WINDOWS',\n",
       "        'TEMP': 'C:\\\\Users\\\\Andrzej\\\\AppData\\\\Local\\\\Temp',\n",
       "        'TMP': 'C:\\\\Users\\\\Andrzej\\\\AppData\\\\Local\\\\Temp',\n",
       "        'USERDOMAIN': 'DESKTOP-OFTF86D',\n",
       "        'USERDOMAIN_ROAMINGPROFILE': 'DESKTOP-OFTF86D',\n",
       "        'USERNAME': 'Andrzej',\n",
       "        'USERPROFILE': 'C:\\\\Users\\\\Andrzej',\n",
       "        'VS110COMNTOOLS': 'C:\\\\Program Files (x86)\\\\Microsoft Visual Studio 11.0\\\\Common7\\\\Tools\\\\',\n",
       "        'VS120COMNTOOLS': 'D:\\\\ProgramFiles\\\\MicrosoftVisualStudio-12.0\\\\Common7\\\\Tools\\\\',\n",
       "        'VS140COMNTOOLS': 'C:\\\\Program Files (x86)\\\\Microsoft Visual Studio 14.0\\\\Common7\\\\Tools\\\\',\n",
       "        'WINDIR': 'C:\\\\WINDOWS',\n",
       "        'PYDEVD_USE_FRAME_EVAL': 'NO',\n",
       "        'JPY_INTERRUPT_EVENT': '2644',\n",
       "        'IPY_INTERRUPT_EVENT': '2644',\n",
       "        'JPY_PARENT_PID': '2640',\n",
       "        'TERM': 'xterm-color',\n",
       "        'CLICOLOR': '1',\n",
       "        'PAGER': 'cat',\n",
       "        'GIT_PAGER': 'cat',\n",
       "        'MPLBACKEND': 'module://matplotlib_inline.backend_inline'}"
      ]
     },
     "execution_count": 8,
     "metadata": {},
     "output_type": "execute_result"
    }
   ],
   "source": [
    "import os\n",
    "\n",
    "os.environ"
   ]
  },
  {
   "cell_type": "markdown",
   "id": "475aaae0",
   "metadata": {},
   "source": [
    "## Strumienie udostępniane przez system plików\n",
    "\n",
    "<div style=\"padding-bottom: 36px; padding-top: 36px;\"><img src=\"img/std_stream_argv_file.png\"></div>"
   ]
  },
  {
   "cell_type": "markdown",
   "id": "707590f7",
   "metadata": {},
   "source": [
    "### Odczyt danych z plików"
   ]
  },
  {
   "cell_type": "markdown",
   "id": "c88e8940",
   "metadata": {},
   "source": [
    "#### Tryb tekstowy"
   ]
  },
  {
   "cell_type": "code",
   "execution_count": 10,
   "id": "a1d21c85",
   "metadata": {},
   "outputs": [
    {
     "data": {
      "text/plain": [
       "_io.TextIOWrapper"
      ]
     },
     "execution_count": 10,
     "metadata": {},
     "output_type": "execute_result"
    }
   ],
   "source": [
    "file = open('data/weiti.txt')\n",
    "type(file)"
   ]
  },
  {
   "cell_type": "markdown",
   "id": "ca09b88a",
   "metadata": {},
   "source": [
    "##### Metoda [read()](https://docs.python.org/3/library/io.html#io.TextIOBase.read)"
   ]
  },
  {
   "cell_type": "code",
   "execution_count": 11,
   "id": "7cac866a",
   "metadata": {},
   "outputs": [
    {
     "name": "stdout",
     "output_type": "stream",
     "text": [
      "kierunek                                    limit miejsc\n",
      "                                    semestr zimowy\tsemestr letni \n",
      "Automatyka i robotyka                               60\t-\n",
      "Cyberbezpieczenstwo\t                            60\t-\n",
      "Elektronika                                        150\t60\n",
      "Informatyka\t                                   150\t30\n",
      "Inzynieria biomedyczna                              45\t-\n",
      "Inzynieria Internetu Rzeczy\t                    30\t-\n",
      "Telekomunikacja                                    150\t60\n",
      "Computer Science (studia w jez. angielskim)\t    30\t30\n",
      "Telecommunications (studia w jez. angielskim)       30\t30\n",
      "\n"
     ]
    }
   ],
   "source": [
    "data = file.read()\n",
    "print(data)"
   ]
  },
  {
   "cell_type": "code",
   "execution_count": 12,
   "id": "77af8126",
   "metadata": {},
   "outputs": [],
   "source": [
    "file.close()"
   ]
  },
  {
   "cell_type": "code",
   "execution_count": 13,
   "id": "0910c362",
   "metadata": {},
   "outputs": [
    {
     "name": "stdout",
     "output_type": "stream",
     "text": [
      "kierunek                                    limit miejsc\n",
      "                                    semestr zimowy\tsemestr letni \n",
      "Automatyka i robotyka                               60\t-\n",
      "Cyberbezpieczenstwo\t                            60\t-\n",
      "Elektronika                                        150\t60\n",
      "Informatyka\t                                   150\t30\n",
      "Inzynieria biomedyczna                              45\t-\n",
      "Inzynieria Internetu Rzeczy\t                    30\t-\n",
      "Telekomunikacja                                    150\t60\n",
      "Computer Science (studia w jez. angielskim)\t    30\t30\n",
      "Telecommunications (studia w jez. angielskim)       30\t30\n",
      "\n"
     ]
    }
   ],
   "source": [
    "with open('data/weiti.txt') as file:\n",
    "    data = file.read()\n",
    "    print(data)"
   ]
  },
  {
   "cell_type": "markdown",
   "id": "7f1b49fc",
   "metadata": {},
   "source": [
    "##### Metoda [readline()](https://docs.python.org/3/library/io.html#io.TextIOBase.readline)"
   ]
  },
  {
   "cell_type": "code",
   "execution_count": 16,
   "id": "300efb5e",
   "metadata": {},
   "outputs": [
    {
     "name": "stdout",
     "output_type": "stream",
     "text": [
      "kierunek                                    limit miejsc\n",
      "                                    semestr zimowy\tsemestr letni \n",
      "Automatyka i robotyka                               60\t-\n",
      "Cyberbezpieczenstwo\t                            60\t-\n",
      "Elektronika                                        150\t60\n",
      "Informatyka\t                                   150\t30\n",
      "Inzynieria biomedyczna                              45\t-\n",
      "Inzynieria Internetu Rzeczy\t                    30\t-\n",
      "Telekomunikacja                                    150\t60\n",
      "Computer Science (studia w jez. angielskim)\t    30\t30\n",
      "Telecommunications (studia w jez. angielskim)       30\t30\n"
     ]
    }
   ],
   "source": [
    "with open('data/weiti.txt') as file:\n",
    "    while True:\n",
    "        line = file.readline()\n",
    "        if not line:\n",
    "            break\n",
    "        print(line, end='')"
   ]
  },
  {
   "cell_type": "markdown",
   "id": "54a41d41",
   "metadata": {},
   "source": [
    "##### Pętla `for`"
   ]
  },
  {
   "cell_type": "code",
   "execution_count": 17,
   "id": "32619d11",
   "metadata": {},
   "outputs": [
    {
     "name": "stdout",
     "output_type": "stream",
     "text": [
      "kierunek                                    limit miejsc\n",
      "                                    semestr zimowy\tsemestr letni \n",
      "Automatyka i robotyka                               60\t-\n",
      "Cyberbezpieczenstwo\t                            60\t-\n",
      "Elektronika                                        150\t60\n",
      "Informatyka\t                                   150\t30\n",
      "Inzynieria biomedyczna                              45\t-\n",
      "Inzynieria Internetu Rzeczy\t                    30\t-\n",
      "Telekomunikacja                                    150\t60\n",
      "Computer Science (studia w jez. angielskim)\t    30\t30\n",
      "Telecommunications (studia w jez. angielskim)       30\t30\n"
     ]
    }
   ],
   "source": [
    "with open('data/weiti.txt') as file:\n",
    "    for line in file:\n",
    "        print(line, end='')"
   ]
  },
  {
   "cell_type": "markdown",
   "id": "040a8cad",
   "metadata": {},
   "source": [
    "##### Metoda [readlines()](https://docs.python.org/3/library/io.html#io.IOBase.readlines)"
   ]
  },
  {
   "cell_type": "code",
   "execution_count": 18,
   "id": "6c72d0dd",
   "metadata": {},
   "outputs": [
    {
     "name": "stdout",
     "output_type": "stream",
     "text": [
      "kierunek                                    limit miejsc\n",
      "                                    semestr zimowy\tsemestr letni \n",
      "Automatyka i robotyka                               60\t-\n",
      "Cyberbezpieczenstwo\t                            60\t-\n",
      "Elektronika                                        150\t60\n",
      "Informatyka\t                                   150\t30\n",
      "Inzynieria biomedyczna                              45\t-\n",
      "Inzynieria Internetu Rzeczy\t                    30\t-\n",
      "Telekomunikacja                                    150\t60\n",
      "Computer Science (studia w jez. angielskim)\t    30\t30\n",
      "Telecommunications (studia w jez. angielskim)       30\t30\n"
     ]
    }
   ],
   "source": [
    "with open('data/weiti.txt') as file:\n",
    "    lines = file.readlines()\n",
    "    for line in lines:\n",
    "        print(line, end='')"
   ]
  },
  {
   "cell_type": "markdown",
   "id": "fd6bffbc",
   "metadata": {},
   "source": [
    "#### Tryb binarny"
   ]
  },
  {
   "cell_type": "code",
   "execution_count": 19,
   "id": "5591f87e",
   "metadata": {},
   "outputs": [
    {
     "name": "stdout",
     "output_type": "stream",
     "text": [
      "<class '_io.BufferedReader'> <class 'bytes'> 24568\n"
     ]
    }
   ],
   "source": [
    "with open(\"img/moduly_pakiety.png\", \"rb\") as file:\n",
    "    data = file.read()\n",
    "    print(type(file), type(data), len(data))"
   ]
  },
  {
   "cell_type": "code",
   "execution_count": 20,
   "id": "8d52f8cd",
   "metadata": {},
   "outputs": [
    {
     "data": {
      "text/plain": [
       "b'\\x89PNG\\r\\n\\x1a\\n\\x00\\x00\\x00\\rIHDR\\x00\\x00\\x02\\x81\\x00\\x00\\x01\\x05\\x08\\x06\\x00\\x00\\x00\\x9c\\x9a=\\xeb\\x00\\x00\\x00\\x01sRGB\\x00\\xae\\xce\\x1c\\xe9\\x00\\x00\\x1a\\x13tEXtmxfile\\x00%3Cmxfile%20host%3D%22app.diagrams.net%'"
      ]
     },
     "execution_count": 20,
     "metadata": {},
     "output_type": "execute_result"
    }
   ],
   "source": [
    "data[:100]"
   ]
  },
  {
   "cell_type": "code",
   "execution_count": 21,
   "id": "6a6b81fc",
   "metadata": {},
   "outputs": [
    {
     "ename": "UnicodeDecodeError",
     "evalue": "'utf-8' codec can't decode byte 0x89 in position 0: invalid start byte",
     "output_type": "error",
     "traceback": [
      "\u001b[1;31m---------------------------------------------------------------------------\u001b[0m",
      "\u001b[1;31mUnicodeDecodeError\u001b[0m                        Traceback (most recent call last)",
      "\u001b[1;32m~\\AppData\\Local\\Temp\\ipykernel_12152\\2806940057.py\u001b[0m in \u001b[0;36m<module>\u001b[1;34m\u001b[0m\n\u001b[1;32m----> 1\u001b[1;33m \u001b[0mdata\u001b[0m\u001b[1;33m.\u001b[0m\u001b[0mdecode\u001b[0m\u001b[1;33m(\u001b[0m\u001b[1;33m)\u001b[0m\u001b[1;33m\u001b[0m\u001b[1;33m\u001b[0m\u001b[0m\n\u001b[0m",
      "\u001b[1;31mUnicodeDecodeError\u001b[0m: 'utf-8' codec can't decode byte 0x89 in position 0: invalid start byte"
     ]
    }
   ],
   "source": [
    "data.decode()"
   ]
  },
  {
   "cell_type": "markdown",
   "id": "9114c433",
   "metadata": {},
   "source": [
    "### Zapis danych do pliku"
   ]
  },
  {
   "cell_type": "markdown",
   "id": "d4f2622b",
   "metadata": {},
   "source": [
    "#### Tryb tekstowy"
   ]
  },
  {
   "cell_type": "code",
   "execution_count": 1,
   "id": "352a7357",
   "metadata": {},
   "outputs": [],
   "source": [
    "przedmioty = [\"Algebra\", \n",
    "              \"Analiza 1\", \n",
    "              \"Analiza 2\", \n",
    "              \"Probabilistyka\", \n",
    "              \"Elementy elektroniczne\", \n",
    "              \"Podstawy elektroniki pomiarów 1\", \n",
    "              \"Podstawy elektroniki pomiarów 2\", \n",
    "              \"Układy elektroniczne\"]\n",
    "              \n",
    "with open('data/przedmioty.txt', \"w\", encoding='utf-8') as file:\n",
    "    for przedmiot in przedmioty:\n",
    "        file.write(przedmiot + '\\n')"
   ]
  },
  {
   "cell_type": "markdown",
   "id": "25bf5ff3",
   "metadata": {},
   "source": [
    "#### Tryb binarny"
   ]
  },
  {
   "cell_type": "code",
   "execution_count": 44,
   "id": "9d0afccd",
   "metadata": {},
   "outputs": [],
   "source": [
    "ascii = bytes(range(32, 128))\n",
    "with open(\"data/ascii.bin\", \"wb\") as file:\n",
    "    file.write(ascii)"
   ]
  },
  {
   "cell_type": "markdown",
   "id": "0865bafa",
   "metadata": {},
   "source": [
    "### Przetwarzanie ścieżek w systemie plików - modul os.path"
   ]
  },
  {
   "cell_type": "code",
   "execution_count": 25,
   "id": "0a291a1f",
   "metadata": {},
   "outputs": [
    {
     "data": {
      "text/plain": [
       "'D:\\\\Andrzej\\\\Documents\\\\IPW\\\\PRM1T\\\\jupyter.notebook.23Z\\\\data\\\\przedmioty.txt'"
      ]
     },
     "execution_count": 25,
     "metadata": {},
     "output_type": "execute_result"
    }
   ],
   "source": [
    "import os\n",
    "\n",
    "os.path.abspath('data/przedmioty.txt')"
   ]
  },
  {
   "cell_type": "code",
   "execution_count": 26,
   "id": "314f3985",
   "metadata": {},
   "outputs": [
    {
     "data": {
      "text/plain": [
       "'przedmioty.txt'"
      ]
     },
     "execution_count": 26,
     "metadata": {},
     "output_type": "execute_result"
    }
   ],
   "source": [
    "os.path.basename('data/przedmioty.txt')"
   ]
  },
  {
   "cell_type": "code",
   "execution_count": 27,
   "id": "83c0b57c",
   "metadata": {},
   "outputs": [
    {
     "data": {
      "text/plain": [
       "('przedmioty', '.txt')"
      ]
     },
     "execution_count": 27,
     "metadata": {},
     "output_type": "execute_result"
    }
   ],
   "source": [
    "os.path.splitext('przedmioty.txt')"
   ]
  },
  {
   "cell_type": "code",
   "execution_count": 28,
   "id": "42fbec3d",
   "metadata": {},
   "outputs": [
    {
     "data": {
      "text/plain": [
       "True"
      ]
     },
     "execution_count": 28,
     "metadata": {},
     "output_type": "execute_result"
    }
   ],
   "source": [
    "os.path.exists('data/przedmioty.txt')"
   ]
  },
  {
   "cell_type": "code",
   "execution_count": 29,
   "id": "ce16ab89",
   "metadata": {},
   "outputs": [
    {
     "data": {
      "text/plain": [
       "True"
      ]
     },
     "execution_count": 29,
     "metadata": {},
     "output_type": "execute_result"
    }
   ],
   "source": [
    "os.path.isfile('data/przedmioty.txt')"
   ]
  },
  {
   "cell_type": "code",
   "execution_count": 30,
   "id": "3820d4f2",
   "metadata": {},
   "outputs": [
    {
     "data": {
      "text/plain": [
       "False"
      ]
     },
     "execution_count": 30,
     "metadata": {},
     "output_type": "execute_result"
    }
   ],
   "source": [
    "os.path.isdir('data/przedmioty.txt')"
   ]
  },
  {
   "cell_type": "code",
   "execution_count": 31,
   "id": "9141184a",
   "metadata": {},
   "outputs": [
    {
     "data": {
      "text/plain": [
       "146"
      ]
     },
     "execution_count": 31,
     "metadata": {},
     "output_type": "execute_result"
    }
   ],
   "source": [
    "os.path.getsize('data/przedmioty.txt')"
   ]
  },
  {
   "cell_type": "markdown",
   "id": "db97a635",
   "metadata": {},
   "source": [
    "#### Lista plików w katalogu"
   ]
  },
  {
   "cell_type": "code",
   "execution_count": 32,
   "id": "f8adf380",
   "metadata": {},
   "outputs": [
    {
     "name": "stdout",
     "output_type": "stream",
     "text": [
      ".ipynb_checkpoints\n",
      "ascii.bin\n",
      "przedmioty.txt\n",
      "weiti.txt\n"
     ]
    }
   ],
   "source": [
    "files = os.listdir('data')\n",
    "for file in files:\n",
    "    print(file)"
   ]
  },
  {
   "cell_type": "markdown",
   "id": "feb3c0da",
   "metadata": {},
   "source": [
    "#### Lista plików w strukturze katalogowej - funkcja [os.walk()](walk)"
   ]
  },
  {
   "cell_type": "markdown",
   "id": "c2165662",
   "metadata": {},
   "source": [
    "#### Utworzenie ścieżki do pliku - metoda [os.path.join()](https://docs.python.org/3/library/os.path.html#os.path.join)"
   ]
  },
  {
   "cell_type": "code",
   "execution_count": 33,
   "id": "888b507e",
   "metadata": {},
   "outputs": [
    {
     "data": {
      "text/plain": [
       "'D:\\\\Andrzej\\\\Documents\\\\IPW\\\\PRM1T\\\\jupyter.notebook.23Z\\\\data\\\\ascii.bin'"
      ]
     },
     "execution_count": 33,
     "metadata": {},
     "output_type": "execute_result"
    }
   ],
   "source": [
    "os.path.join(os.getcwd(), 'data', files[1])"
   ]
  },
  {
   "cell_type": "markdown",
   "id": "64c303a6",
   "metadata": {},
   "source": [
    "## Odczyt, zmiana aktualnej pozycji pliku - metody [tell()](https://docs.python.org/3/library/io.html#io.IOBase.tell), [seek()](https://docs.python.org/3/library/io.html#io.IOBase.seek)"
   ]
  },
  {
   "cell_type": "code",
   "execution_count": 34,
   "id": "a5dd5e14",
   "metadata": {},
   "outputs": [],
   "source": [
    "data = bytes(range(32))\n",
    "with open(\"data/range.bin\", \"wb\") as file:\n",
    "    file.write(data)"
   ]
  },
  {
   "cell_type": "code",
   "execution_count": 35,
   "id": "cb829445",
   "metadata": {},
   "outputs": [
    {
     "data": {
      "text/plain": [
       "0"
      ]
     },
     "execution_count": 35,
     "metadata": {},
     "output_type": "execute_result"
    }
   ],
   "source": [
    "file = open(\"data/range.bin\", \"rb\")\n",
    "file.tell()"
   ]
  },
  {
   "cell_type": "code",
   "execution_count": 37,
   "id": "b691042d",
   "metadata": {},
   "outputs": [
    {
     "data": {
      "text/plain": [
       "(b'', 32)"
      ]
     },
     "execution_count": 37,
     "metadata": {},
     "output_type": "execute_result"
    }
   ],
   "source": [
    "data = file.read()\n",
    "data, file.tell()"
   ]
  },
  {
   "cell_type": "code",
   "execution_count": 38,
   "id": "bcdef718",
   "metadata": {},
   "outputs": [
    {
     "data": {
      "text/plain": [
       "0"
      ]
     },
     "execution_count": 38,
     "metadata": {},
     "output_type": "execute_result"
    }
   ],
   "source": [
    "file.seek(0)\n",
    "file.tell()"
   ]
  },
  {
   "cell_type": "code",
   "execution_count": 39,
   "id": "d0b196ce",
   "metadata": {},
   "outputs": [
    {
     "data": {
      "text/plain": [
       "(b'\\x00\\x01\\x02\\x03\\x04\\x05\\x06\\x07\\x08\\t', 10)"
      ]
     },
     "execution_count": 39,
     "metadata": {},
     "output_type": "execute_result"
    }
   ],
   "source": [
    "data = file.read(10)\n",
    "data, file.tell()"
   ]
  },
  {
   "cell_type": "code",
   "execution_count": 40,
   "id": "736d31d2",
   "metadata": {},
   "outputs": [
    {
     "data": {
      "text/plain": [
       "(b'\\x05\\x06\\x07\\x08\\t\\n\\x0b\\x0c\\r\\x0e', 15)"
      ]
     },
     "execution_count": 40,
     "metadata": {},
     "output_type": "execute_result"
    }
   ],
   "source": [
    "file.seek(5)\n",
    "data = file.read(10)\n",
    "data, file.tell()"
   ]
  },
  {
   "cell_type": "code",
   "execution_count": 41,
   "id": "1ecf42de",
   "metadata": {},
   "outputs": [
    {
     "data": {
      "text/plain": [
       "10"
      ]
     },
     "execution_count": 41,
     "metadata": {},
     "output_type": "execute_result"
    }
   ],
   "source": [
    "file.seek(-5, os.SEEK_CUR)\n",
    "file.tell()"
   ]
  },
  {
   "cell_type": "code",
   "execution_count": 42,
   "id": "e12c4385",
   "metadata": {},
   "outputs": [
    {
     "data": {
      "text/plain": [
       "32"
      ]
     },
     "execution_count": 42,
     "metadata": {},
     "output_type": "execute_result"
    }
   ],
   "source": [
    "file.seek(0, os.SEEK_END)\n",
    "file.tell()"
   ]
  },
  {
   "cell_type": "code",
   "execution_count": 43,
   "id": "aac644d9",
   "metadata": {},
   "outputs": [],
   "source": [
    "file.close()"
   ]
  },
  {
   "cell_type": "code",
   "execution_count": null,
   "id": "6f7eb06e",
   "metadata": {},
   "outputs": [],
   "source": []
  }
 ],
 "metadata": {
  "kernelspec": {
   "display_name": "Python 3 (ipykernel)",
   "language": "python",
   "name": "python3"
  },
  "language_info": {
   "codemirror_mode": {
    "name": "ipython",
    "version": 3
   },
   "file_extension": ".py",
   "mimetype": "text/x-python",
   "name": "python",
   "nbconvert_exporter": "python",
   "pygments_lexer": "ipython3",
   "version": "3.9.13"
  }
 },
 "nbformat": 4,
 "nbformat_minor": 5
}
