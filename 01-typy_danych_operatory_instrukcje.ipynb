{
 "cells": [
  {
   "cell_type": "markdown",
   "id": "11b5187e-348f-42ad-97fb-56e2b9af0fbf",
   "metadata": {},
   "source": [
    "<div style=\"text-align: center; color: #7896cf; font-size: 32px; font-weight: bold; font-family: Arial, Helvetica, sans-serif; padding-bottom: 12px;\">PODSTAWY PROGRAMOWANIA 1</div>\n",
    "<div style=\"text-align: center; color: #3c3c4c; font-size: large; font-family:monospace; padding-bottom:18px;\"> andrzej.buchowicz@pw.edu.pl</div>\n",
    "<div style=\"text-align: center; font-size: 48px; font-family: Arial, Helvetica, sans-serif; padding-bottom: 24px; line-height: 1.25;\">Podstawowe typy danych, operatory, instrukcje</div>"
   ]
  },
  {
   "cell_type": "markdown",
   "id": "7591a75f-5949-4333-9df7-6fbd5b375a49",
   "metadata": {},
   "source": [
    "## Podstawowe typy danych"
   ]
  },
  {
   "cell_type": "markdown",
   "id": "afebb548-85bf-44ff-89e7-cc864d1eb86c",
   "metadata": {},
   "source": [
    "### Dane tekstowe"
   ]
  },
  {
   "cell_type": "code",
   "execution_count": 10,
   "id": "63d89f2b-a03c-4620-bb23-a61df3f5c9e9",
   "metadata": {},
   "outputs": [
    {
     "data": {
      "text/plain": [
       "str"
      ]
     },
     "execution_count": 10,
     "metadata": {},
     "output_type": "execute_result"
    }
   ],
   "source": [
    "type('ABC')"
   ]
  },
  {
   "cell_type": "markdown",
   "id": "70fbd63f-7ffb-4d9b-af3b-89d2f57c76cc",
   "metadata": {},
   "source": [
    "### Liczby całkowite"
   ]
  },
  {
   "cell_type": "code",
   "execution_count": 2,
   "id": "43e570e4-3e1f-4591-a564-64f9dd06af5b",
   "metadata": {},
   "outputs": [
    {
     "data": {
      "text/plain": [
       "int"
      ]
     },
     "execution_count": 2,
     "metadata": {},
     "output_type": "execute_result"
    }
   ],
   "source": [
    "type(123)"
   ]
  },
  {
   "cell_type": "markdown",
   "id": "260e7f46-d7e2-4cb7-a4f0-436a4b6a7e47",
   "metadata": {},
   "source": [
    "### Liczby rzeczywiste"
   ]
  },
  {
   "cell_type": "code",
   "execution_count": 22,
   "id": "106be38d-d911-455b-915d-896f640f9c53",
   "metadata": {},
   "outputs": [
    {
     "data": {
      "text/plain": [
       "float"
      ]
     },
     "execution_count": 22,
     "metadata": {},
     "output_type": "execute_result"
    }
   ],
   "source": [
    "type(123.)"
   ]
  },
  {
   "cell_type": "code",
   "execution_count": 23,
   "id": "f765fec3-4fcb-41fd-8400-a73f013fdd68",
   "metadata": {},
   "outputs": [
    {
     "data": {
      "text/plain": [
       "float"
      ]
     },
     "execution_count": 23,
     "metadata": {},
     "output_type": "execute_result"
    }
   ],
   "source": [
    "type(1.23e+2)"
   ]
  },
  {
   "cell_type": "markdown",
   "id": "fbf96a4c-fdae-49f3-99e0-5cf12e5e92f9",
   "metadata": {},
   "source": [
    "#### Dodatkowe typy danych liczbowych\n",
    "\n",
    "* [liczby ułamkowe](https://docs.python.org/3/library/fractions.html)\n",
    "* [liczby dziesiętne](https://docs.python.org/3/library/decimal.html)\n",
    "* [liczby zespolone](https://docs.python.org/3/library/functions.html#complex)"
   ]
  },
  {
   "cell_type": "markdown",
   "id": "9313e1bd-19ea-4a69-aa5f-11fdc99be038",
   "metadata": {},
   "source": [
    "### Wartości logiczne"
   ]
  },
  {
   "cell_type": "code",
   "execution_count": 19,
   "id": "bf187139-790a-411d-82d1-085667568ddb",
   "metadata": {},
   "outputs": [
    {
     "data": {
      "text/plain": [
       "bool"
      ]
     },
     "execution_count": 19,
     "metadata": {},
     "output_type": "execute_result"
    }
   ],
   "source": [
    "type(True)"
   ]
  },
  {
   "cell_type": "code",
   "execution_count": 20,
   "id": "f0e154c8-be6d-41c0-8422-9f58567bae91",
   "metadata": {},
   "outputs": [
    {
     "data": {
      "text/plain": [
       "bool"
      ]
     },
     "execution_count": 20,
     "metadata": {},
     "output_type": "execute_result"
    }
   ],
   "source": [
    "type(False)"
   ]
  },
  {
   "cell_type": "markdown",
   "id": "ed90b213-aa52-4ddd-a0c9-4c05be125b80",
   "metadata": {},
   "source": [
    "### Brak danych"
   ]
  },
  {
   "cell_type": "code",
   "execution_count": 18,
   "id": "829d1285-1e4d-445a-8ff5-c037eb9b6f0f",
   "metadata": {},
   "outputs": [
    {
     "data": {
      "text/plain": [
       "NoneType"
      ]
     },
     "execution_count": 18,
     "metadata": {},
     "output_type": "execute_result"
    }
   ],
   "source": [
    "type(None)"
   ]
  },
  {
   "cell_type": "markdown",
   "id": "94ba662f-3231-4c02-9cd4-0413196da5bb",
   "metadata": {},
   "source": [
    "### Dane binarne"
   ]
  },
  {
   "cell_type": "code",
   "execution_count": 21,
   "id": "1f2f2304-1d9f-4728-9499-a1ba2305e86f",
   "metadata": {},
   "outputs": [
    {
     "data": {
      "text/plain": [
       "bytes"
      ]
     },
     "execution_count": 21,
     "metadata": {},
     "output_type": "execute_result"
    }
   ],
   "source": [
    "type(b'10101')"
   ]
  },
  {
   "cell_type": "markdown",
   "id": "f48f26d2-a94f-4888-88ab-550ba066722d",
   "metadata": {},
   "source": [
    "### Konwersja typów danych\n",
    "\n",
    "Wbudowane funkcje:\n",
    "* [int()](https://docs.python.org/3/library/functions.html#int)\n",
    "* [float()](https://docs.python.org/3/library/functions.html#float)\n",
    "* [str()](https://docs.python.org/3/library/functions.html#func-str)\n",
    "* [...]"
   ]
  },
  {
   "cell_type": "markdown",
   "id": "462593de-466c-48aa-9db9-77484bad260f",
   "metadata": {},
   "source": [
    "## Operatory"
   ]
  },
  {
   "cell_type": "markdown",
   "id": "14cfa184-4ed0-46f6-9a6c-4b641c1b7870",
   "metadata": {},
   "source": [
    "### Arytmetyczne"
   ]
  },
  {
   "cell_type": "markdown",
   "id": "2499b664-687b-45c5-a6de-8b4eba7d531c",
   "metadata": {},
   "source": [
    "### Logiczne"
   ]
  },
  {
   "cell_type": "markdown",
   "id": "e98d15b8-7fb4-4a58-9f73-1fe82aafd60f",
   "metadata": {},
   "source": [
    "### Porównania"
   ]
  },
  {
   "cell_type": "markdown",
   "id": "4735fa38-e4cc-4e38-9491-e1311e2c3b46",
   "metadata": {},
   "source": [
    "### Przypisania"
   ]
  },
  {
   "cell_type": "markdown",
   "id": "7f6fdec2-daa5-4c6a-b660-ee3f4f8794ca",
   "metadata": {},
   "source": [
    "### [Priorytety operatorów](https://docs.python.org/3/reference/expressions.html#operator-precedence)"
   ]
  },
  {
   "cell_type": "markdown",
   "id": "ce96d707-b784-4f80-8407-7f95b06d0319",
   "metadata": {},
   "source": [
    "## Instrukcja warunkowa"
   ]
  },
  {
   "cell_type": "markdown",
   "id": "cad5cf79-a56a-4878-acdc-ec2b8d28631a",
   "metadata": {},
   "source": [
    "## Pętla `while`"
   ]
  },
  {
   "cell_type": "code",
   "execution_count": null,
   "id": "03a947a5-587c-4ed7-a7af-dfe5073e5868",
   "metadata": {},
   "outputs": [],
   "source": []
  }
 ],
 "metadata": {
  "kernelspec": {
   "display_name": "Python 3 (ipykernel)",
   "language": "python",
   "name": "python3"
  },
  "language_info": {
   "codemirror_mode": {
    "name": "ipython",
    "version": 3
   },
   "file_extension": ".py",
   "mimetype": "text/x-python",
   "name": "python",
   "nbconvert_exporter": "python",
   "pygments_lexer": "ipython3",
   "version": "3.9.13"
  }
 },
 "nbformat": 4,
 "nbformat_minor": 5
}
