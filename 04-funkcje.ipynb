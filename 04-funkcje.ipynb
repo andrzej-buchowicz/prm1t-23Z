{
 "cells": [
  {
   "cell_type": "markdown",
   "id": "11b5187e-348f-42ad-97fb-56e2b9af0fbf",
   "metadata": {},
   "source": [
    "<div style=\"text-align: center; color: #7896cf; font-size: 32px; font-weight: bold; font-family: Arial, Helvetica, sans-serif; padding-bottom: 12px;\">PODSTAWY PROGRAMOWANIA 1</div>\n",
    "<div style=\"text-align: center; color: #3c3c4c; font-size: large; font-family:monospace; padding-bottom:18px;\"> andrzej.buchowicz@pw.edu.pl</div>\n",
    "<div style=\"text-align: center; font-size: 48px; font-family: Arial, Helvetica, sans-serif; padding-bottom: 24px; line-height: 1.25;\">Funkcje</div>"
   ]
  },
  {
   "cell_type": "markdown",
   "id": "aa1d57ab",
   "metadata": {},
   "source": [
    "## Przykład: obliczanie pierwiastków równania kwadratowego\n",
    "<br>\n",
    "$$ a \\cdot x^2 + b \\cdot x + c = 0$$\n",
    "\n",
    "$$ \\Delta = b^2 - 4 \\cdot a \\cdot c $$\n",
    "<br>\n",
    "Jeśli $\\Delta > 0$ to równanie ma dwa pierwiastki:\n",
    "$$x_1 = \\frac{-b - \\sqrt{\\Delta}}{2 \\cdot a} \\qquad x_2 = \\frac{-b + \\sqrt{\\Delta}}{2 \\cdot a}$$\n",
    "<br><br>\n",
    "Jeśli $\\Delta == 0$ to równanie ma jeden pierwiastek:\n",
    "$$ x_0 = \\frac{-b}{2 \\cdot a} $$\n",
    "<br><br>\n",
    "Jeśli $\\Delta < 0$ to równanie nie ma pierwiastków"
   ]
  },
  {
   "cell_type": "code",
   "execution_count": 8,
   "id": "d8828b13",
   "metadata": {},
   "outputs": [],
   "source": [
    "import math\n",
    "\n",
    "\n",
    "def rozwiaz_rownanie(a, b, c):\n",
    "    delta = b * b - 4 * a *c\n",
    "\n",
    "    if delta > 0:\n",
    "        x1 = (-b - math.sqrt(delta)) / (2 * a)\n",
    "        x2 = (-b + math.sqrt(delta)) / (2 * a)\n",
    "        return (x1, x2) \n",
    "    elif delta == 0:\n",
    "        return -b / (2 * a),\n",
    "    else:\n",
    "        return ()        "
   ]
  },
  {
   "cell_type": "code",
   "execution_count": 10,
   "id": "726398d1",
   "metadata": {},
   "outputs": [
    {
     "name": "stdout",
     "output_type": "stream",
     "text": [
      "(1.0, 2.0)\n",
      "(1.0,)\n",
      "()\n"
     ]
    }
   ],
   "source": [
    "print(rozwiaz_rownanie(1, -3, 2))\n",
    "print(rozwiaz_rownanie(1, -2, 1))\n",
    "print(rozwiaz_rownanie(1, 0, 1))"
   ]
  },
  {
   "cell_type": "markdown",
   "id": "4100d9f9",
   "metadata": {},
   "source": [
    "# Funkcja:\n",
    "\n",
    "* blok kodu wywoływany w innym fragmencie kodu programu\n",
    "* do funkcji mogą być przekazywane parametry wejściowe\n",
    "* wynik działania funkcji może być zwracany przy użyciu instrukcji `return`\n",
    "* funkcje są obiektami\n",
    "* funkcje mogą wywoływać mogą wywoływać same siebie - funkcje rekurencyjne"
   ]
  },
  {
   "cell_type": "markdown",
   "id": "62c9758e",
   "metadata": {},
   "source": [
    "## Parametry wejściowe funkcji \n",
    "* pozycyjne\n",
    "* słownikowe"
   ]
  },
  {
   "cell_type": "code",
   "execution_count": 14,
   "id": "3c161f39",
   "metadata": {},
   "outputs": [
    {
     "name": "stdout",
     "output_type": "stream",
     "text": [
      "wynik: 123\n"
     ]
    }
   ],
   "source": [
    "# parametry pozycyjne\n",
    "def fun(a, b, c):\n",
    "    return 100 * a + 10 * b + c\n",
    "\n",
    "wynik = fun(1, 2, 3)\n",
    "print(\"wynik:\", wynik)"
   ]
  },
  {
   "cell_type": "code",
   "execution_count": 15,
   "id": "60eb6479",
   "metadata": {},
   "outputs": [
    {
     "data": {
      "text/plain": [
       "123"
      ]
     },
     "execution_count": 15,
     "metadata": {},
     "output_type": "execute_result"
    }
   ],
   "source": [
    "param = [1, 2, 3]\n",
    "fun(*param)"
   ]
  },
  {
   "cell_type": "code",
   "execution_count": 16,
   "id": "e75580ed",
   "metadata": {},
   "outputs": [
    {
     "name": "stdout",
     "output_type": "stream",
     "text": [
      "123\n",
      "456\n",
      "789\n"
     ]
    }
   ],
   "source": [
    "lista_param = [\n",
    "  [1, 2, 3],\n",
    "  [4, 5, 6],\n",
    "  [7, 8, 9]               \n",
    "]\n",
    "\n",
    "for param in lista_param:\n",
    "    print(fun(*param))"
   ]
  },
  {
   "cell_type": "code",
   "execution_count": 17,
   "id": "21b9ea53",
   "metadata": {},
   "outputs": [],
   "source": [
    "# funkcja z dowolną liczbą parametrów\n",
    "def oblicz_sume(*liczby):\n",
    "    suma = 0\n",
    "    for liczba in liczby:\n",
    "        suma += liczba\n",
    "    return suma"
   ]
  },
  {
   "cell_type": "code",
   "execution_count": 18,
   "id": "f949c2c3",
   "metadata": {},
   "outputs": [
    {
     "data": {
      "text/plain": [
       "0"
      ]
     },
     "execution_count": 18,
     "metadata": {},
     "output_type": "execute_result"
    }
   ],
   "source": [
    "oblicz_sume()"
   ]
  },
  {
   "cell_type": "code",
   "execution_count": 19,
   "id": "f6d825fe",
   "metadata": {},
   "outputs": [
    {
     "data": {
      "text/plain": [
       "1"
      ]
     },
     "execution_count": 19,
     "metadata": {},
     "output_type": "execute_result"
    }
   ],
   "source": [
    "oblicz_sume(1)"
   ]
  },
  {
   "cell_type": "code",
   "execution_count": 20,
   "id": "dd0be3a9",
   "metadata": {},
   "outputs": [
    {
     "data": {
      "text/plain": [
       "6"
      ]
     },
     "execution_count": 20,
     "metadata": {},
     "output_type": "execute_result"
    }
   ],
   "source": [
    "oblicz_sume(1, 2, 3)"
   ]
  },
  {
   "cell_type": "markdown",
   "id": "fa852c93",
   "metadata": {},
   "source": [
    "### Parametry slownikowe - domyślne wartości parametrów"
   ]
  },
  {
   "cell_type": "code",
   "execution_count": 21,
   "id": "42333330",
   "metadata": {},
   "outputs": [],
   "source": [
    "def fun2(a, b=2, c=3):\n",
    "    return 100 * a + 10 * b + c"
   ]
  },
  {
   "cell_type": "code",
   "execution_count": 22,
   "id": "0319c84e",
   "metadata": {},
   "outputs": [
    {
     "data": {
      "text/plain": [
       "456"
      ]
     },
     "execution_count": 22,
     "metadata": {},
     "output_type": "execute_result"
    }
   ],
   "source": [
    "fun2(4, 5, 6)"
   ]
  },
  {
   "cell_type": "code",
   "execution_count": 23,
   "id": "57539849",
   "metadata": {},
   "outputs": [
    {
     "data": {
      "text/plain": [
       "453"
      ]
     },
     "execution_count": 23,
     "metadata": {},
     "output_type": "execute_result"
    }
   ],
   "source": [
    "fun2(4, 5)"
   ]
  },
  {
   "cell_type": "code",
   "execution_count": 24,
   "id": "968e0a97",
   "metadata": {},
   "outputs": [
    {
     "data": {
      "text/plain": [
       "423"
      ]
     },
     "execution_count": 24,
     "metadata": {},
     "output_type": "execute_result"
    }
   ],
   "source": [
    "fun2(4)"
   ]
  },
  {
   "cell_type": "code",
   "execution_count": 25,
   "id": "52a6adb4",
   "metadata": {},
   "outputs": [
    {
     "ename": "TypeError",
     "evalue": "fun2() missing 1 required positional argument: 'a'",
     "output_type": "error",
     "traceback": [
      "\u001b[1;31m---------------------------------------------------------------------------\u001b[0m",
      "\u001b[1;31mTypeError\u001b[0m                                 Traceback (most recent call last)",
      "\u001b[1;32m~\\AppData\\Local\\Temp\\ipykernel_11864\\3580675457.py\u001b[0m in \u001b[0;36m<module>\u001b[1;34m\u001b[0m\n\u001b[1;32m----> 1\u001b[1;33m \u001b[0mfun2\u001b[0m\u001b[1;33m(\u001b[0m\u001b[1;33m)\u001b[0m\u001b[1;33m\u001b[0m\u001b[1;33m\u001b[0m\u001b[0m\n\u001b[0m",
      "\u001b[1;31mTypeError\u001b[0m: fun2() missing 1 required positional argument: 'a'"
     ]
    }
   ],
   "source": [
    "fun2()"
   ]
  },
  {
   "cell_type": "code",
   "execution_count": 26,
   "id": "0c61e43e",
   "metadata": {},
   "outputs": [
    {
     "data": {
      "text/plain": [
       "456"
      ]
     },
     "execution_count": 26,
     "metadata": {},
     "output_type": "execute_result"
    }
   ],
   "source": [
    "param_dict = {\"b\": 5, \"c\": 6}\n",
    "fun2(4, **param_dict)"
   ]
  },
  {
   "cell_type": "code",
   "execution_count": 27,
   "id": "40043693",
   "metadata": {},
   "outputs": [],
   "source": [
    "def fun3(**params):\n",
    "    a = params.get(\"a\", 1)\n",
    "    b = params.get(\"b\", 2)\n",
    "    c = params.get(\"c\", 3)\n",
    "    return 100 * a + 10 * b + c"
   ]
  },
  {
   "cell_type": "code",
   "execution_count": 28,
   "id": "96434188",
   "metadata": {},
   "outputs": [
    {
     "data": {
      "text/plain": [
       "123"
      ]
     },
     "execution_count": 28,
     "metadata": {},
     "output_type": "execute_result"
    }
   ],
   "source": [
    "fun3()"
   ]
  },
  {
   "cell_type": "code",
   "execution_count": 29,
   "id": "7e8e61b4",
   "metadata": {},
   "outputs": [
    {
     "data": {
      "text/plain": [
       "527"
      ]
     },
     "execution_count": 29,
     "metadata": {},
     "output_type": "execute_result"
    }
   ],
   "source": [
    "fun3(a=5, c=7)"
   ]
  },
  {
   "cell_type": "markdown",
   "id": "cf15d48b",
   "metadata": {},
   "source": [
    "## Zakres widoczności zmiennych\n",
    "\n",
    "* zmienna lokalna - utworzona wewnątrz funkcji: zakres widoczności *funkcja*\n",
    "* zmienna globalna - utworzona poza jakąkolwiek funkcją: zakres widoczności *moduł*"
   ]
  },
  {
   "cell_type": "code",
   "execution_count": 30,
   "id": "b6a05680",
   "metadata": {},
   "outputs": [
    {
     "name": "stdout",
     "output_type": "stream",
     "text": [
      "zmienna globalna= 123\n",
      "fun1(1)= 124\n",
      "zmienna globalna= 123\n"
     ]
    },
    {
     "ename": "NameError",
     "evalue": "name 'zmienna_lokalna' is not defined",
     "output_type": "error",
     "traceback": [
      "\u001b[1;31m---------------------------------------------------------------------------\u001b[0m",
      "\u001b[1;31mNameError\u001b[0m                                 Traceback (most recent call last)",
      "\u001b[1;32m~\\AppData\\Local\\Temp\\ipykernel_11864\\1452112420.py\u001b[0m in \u001b[0;36m<module>\u001b[1;34m\u001b[0m\n\u001b[0;32m     10\u001b[0m \u001b[0mprint\u001b[0m\u001b[1;33m(\u001b[0m\u001b[1;34m'fun1(1)='\u001b[0m\u001b[1;33m,\u001b[0m \u001b[0mfun1\u001b[0m\u001b[1;33m(\u001b[0m\u001b[1;36m1\u001b[0m\u001b[1;33m)\u001b[0m\u001b[1;33m)\u001b[0m\u001b[1;33m\u001b[0m\u001b[1;33m\u001b[0m\u001b[0m\n\u001b[0;32m     11\u001b[0m \u001b[0mprint\u001b[0m\u001b[1;33m(\u001b[0m\u001b[1;34m'zmienna globalna='\u001b[0m\u001b[1;33m,\u001b[0m  \u001b[0mzmienna_globalna\u001b[0m\u001b[1;33m)\u001b[0m\u001b[1;33m\u001b[0m\u001b[1;33m\u001b[0m\u001b[0m\n\u001b[1;32m---> 12\u001b[1;33m \u001b[0mprint\u001b[0m\u001b[1;33m(\u001b[0m\u001b[0mzmienna_lokalna\u001b[0m\u001b[1;33m)\u001b[0m\u001b[1;33m\u001b[0m\u001b[1;33m\u001b[0m\u001b[0m\n\u001b[0m",
      "\u001b[1;31mNameError\u001b[0m: name 'zmienna_lokalna' is not defined"
     ]
    }
   ],
   "source": [
    "zmienna_globalna = 123\n",
    "\n",
    "\n",
    "def fun1(param):\n",
    "    zmienna_lokalna = param  \n",
    "    return zmienna_lokalna + zmienna_globalna\n",
    "\n",
    "\n",
    "print('zmienna globalna=', zmienna_globalna)\n",
    "print('fun1(1)=', fun1(1))\n",
    "print('zmienna globalna=',  zmienna_globalna)\n",
    "print(zmienna_lokalna)"
   ]
  },
  {
   "cell_type": "code",
   "execution_count": 32,
   "id": "82e19c48",
   "metadata": {},
   "outputs": [
    {
     "name": "stdout",
     "output_type": "stream",
     "text": [
      "zmienna_globalna= 123\n",
      "fun_local(1)= 1\n",
      "zmienna_globalna= 123\n"
     ]
    }
   ],
   "source": [
    "zmienna_globalna = 123\n",
    "\n",
    "\n",
    "def fun_local(param):\n",
    "    zmienna_globalna = param\n",
    "    return zmienna_globalna\n",
    "\n",
    "\n",
    "print(\"zmienna_globalna=\", zmienna_globalna)\n",
    "print(\"fun_local(1)=\", fun_local(1))\n",
    "print(\"zmienna_globalna=\", zmienna_globalna)"
   ]
  },
  {
   "cell_type": "code",
   "execution_count": 33,
   "id": "4351e7bc",
   "metadata": {},
   "outputs": [
    {
     "name": "stdout",
     "output_type": "stream",
     "text": [
      "zmienna_globalna= 123\n",
      "fun_global(1)= 2\n",
      "zmienna_globalna= 1\n"
     ]
    }
   ],
   "source": [
    "zmienna_globalna = 123\n",
    "\n",
    "def fun_global(param):\n",
    "    global zmienna_globalna\n",
    "    zmienna_globalna = param     # efekt uboczny wywołania funkcji !!!\n",
    "    return param * 2\n",
    "\n",
    "print(\"zmienna_globalna=\", zmienna_globalna)\n",
    "print(\"fun_global(1)=\", fun_global(1))\n",
    "print(\"zmienna_globalna=\", zmienna_globalna)"
   ]
  },
  {
   "cell_type": "markdown",
   "id": "fca57a13",
   "metadata": {},
   "source": [
    "## Funkcje *nie zmieniają* wartości parametrów, których typ jest niemodyfikowalny (**immutable**), np. `int`, `float`, `bool`, `str`"
   ]
  },
  {
   "cell_type": "code",
   "execution_count": 34,
   "id": "bd95ba40",
   "metadata": {},
   "outputs": [
    {
     "name": "stdout",
     "output_type": "stream",
     "text": [
      "zmienna1= 1 zmienna2= 3\n"
     ]
    }
   ],
   "source": [
    "def fun4(param):\n",
    "    param += 2\n",
    "    return param\n",
    "\n",
    "zmienna1 = 1\n",
    "zmienna2 = fun4(zmienna1)\n",
    "print('zmienna1=', zmienna1, 'zmienna2=', zmienna2)"
   ]
  },
  {
   "cell_type": "markdown",
   "id": "c9dd6168",
   "metadata": {},
   "source": [
    "## Funkcje *zmieniają* wartości parametrów, których typ jest modyfikowalny (**mutable**), np. `list`, `dict`"
   ]
  },
  {
   "cell_type": "code",
   "execution_count": 35,
   "id": "9184a8c6",
   "metadata": {},
   "outputs": [
    {
     "name": "stdout",
     "output_type": "stream",
     "text": [
      "lista= [1, 2, 3]\n",
      "lista= [77, 2, 3, 123] suma= 205\n"
     ]
    }
   ],
   "source": [
    "def fun5(param):\n",
    "    param[0] = 77\n",
    "    param.append(123)          # efekt uboczny wywołania funkcji !!!\n",
    "    return sum(param)\n",
    "\n",
    "lista = [1, 2, 3]\n",
    "print('lista=', lista)\n",
    "suma = fun5(lista)\n",
    "print('lista=', lista, 'suma=', suma)"
   ]
  },
  {
   "cell_type": "markdown",
   "id": "a978de21",
   "metadata": {},
   "source": [
    "## Funkcje rekurencyjne"
   ]
  },
  {
   "cell_type": "markdown",
   "id": "568a0805",
   "metadata": {},
   "source": [
    "Silnia - definicja/implementacja iteracyjna\n",
    "\n",
    "$$ n! = \\left\\{ \n",
    "  \\begin{array}{ll}\n",
    "    1  & n=1 \\\\\n",
    "    \\prod_{k=1}^n k & n>1\n",
    "  \\end{array}\n",
    "\\right. $$"
   ]
  },
  {
   "cell_type": "code",
   "execution_count": 36,
   "id": "775d5d3a",
   "metadata": {},
   "outputs": [
    {
     "name": "stdout",
     "output_type": "stream",
     "text": [
      "0 1\n",
      "1 1\n",
      "2 2\n",
      "3 6\n",
      "4 24\n",
      "5 120\n",
      "6 720\n",
      "7 5040\n",
      "8 40320\n",
      "9 362880\n"
     ]
    }
   ],
   "source": [
    "def silnia_iter(n):\n",
    "    silnia = 1\n",
    "    for k in range(1, n + 1):\n",
    "        silnia *= k\n",
    "    return silnia\n",
    "\n",
    "\n",
    "for n in range(10):\n",
    "    print(n, silnia_iter(n))"
   ]
  },
  {
   "cell_type": "markdown",
   "id": "5593e199",
   "metadata": {},
   "source": [
    "Silnia - definicja/implementaca rekurencyjna\n",
    "\n",
    "$$ n! = \\left\\{ \n",
    "  \\begin{array}{ll}\n",
    "    1  & n=1 \\\\\n",
    "    n \\cdot (n - 1)! & n>1\n",
    "  \\end{array}\n",
    "\\right. $$"
   ]
  },
  {
   "cell_type": "code",
   "execution_count": 37,
   "id": "250f3913",
   "metadata": {},
   "outputs": [
    {
     "name": "stdout",
     "output_type": "stream",
     "text": [
      "0 1\n",
      "1 1\n",
      "2 2\n",
      "3 6\n",
      "4 24\n",
      "5 120\n",
      "6 720\n",
      "7 5040\n",
      "8 40320\n",
      "9 362880\n"
     ]
    }
   ],
   "source": [
    "def silnia_rekur(n):\n",
    "    if n > 1:\n",
    "        return n * silnia_rekur(n - 1)\n",
    "    else:\n",
    "        return 1\n",
    "\n",
    "\n",
    "for n in range(10):\n",
    "    print(n, silnia_rekur(n))"
   ]
  },
  {
   "cell_type": "markdown",
   "id": "5dadd4fa",
   "metadata": {},
   "source": [
    "## Funkcje anonimowe"
   ]
  },
  {
   "cell_type": "code",
   "execution_count": 38,
   "id": "e27d2df4",
   "metadata": {},
   "outputs": [],
   "source": [
    "def podziel_przez_dwa(x):\n",
    "    return x / 2"
   ]
  },
  {
   "cell_type": "code",
   "execution_count": 39,
   "id": "0e32eb6c",
   "metadata": {},
   "outputs": [
    {
     "data": {
      "text/plain": [
       "<function __main__.podziel_przez_dwa(x)>"
      ]
     },
     "execution_count": 39,
     "metadata": {},
     "output_type": "execute_result"
    }
   ],
   "source": [
    "podziel_przez_dwa"
   ]
  },
  {
   "cell_type": "code",
   "execution_count": 40,
   "id": "6caf9980",
   "metadata": {},
   "outputs": [
    {
     "data": {
      "text/plain": [
       "<function __main__.<lambda>(x)>"
      ]
     },
     "execution_count": 40,
     "metadata": {},
     "output_type": "execute_result"
    }
   ],
   "source": [
    "lambda x: x/2"
   ]
  },
  {
   "cell_type": "code",
   "execution_count": 41,
   "id": "c99ad3d7",
   "metadata": {},
   "outputs": [
    {
     "data": {
      "text/plain": [
       "2.5"
      ]
     },
     "execution_count": 41,
     "metadata": {},
     "output_type": "execute_result"
    }
   ],
   "source": [
    "moja_funkcja = lambda x: x/2\n",
    "moja_funkcja(5)"
   ]
  },
  {
   "cell_type": "code",
   "execution_count": 42,
   "id": "8da42493",
   "metadata": {},
   "outputs": [],
   "source": [
    "wyniki = [\n",
    "    ('Adam', 'Cabacki', 45),\n",
    "    ('Cezary', 'Abacki', 17),\n",
    "    ('Beata', 'Babacka', 25)\n",
    "]"
   ]
  },
  {
   "cell_type": "code",
   "execution_count": 43,
   "id": "411fa901",
   "metadata": {},
   "outputs": [
    {
     "data": {
      "text/plain": [
       "[('Adam', 'Cabacki', 45), ('Beata', 'Babacka', 25), ('Cezary', 'Abacki', 17)]"
      ]
     },
     "execution_count": 43,
     "metadata": {},
     "output_type": "execute_result"
    }
   ],
   "source": [
    "sorted(wyniki)"
   ]
  },
  {
   "cell_type": "code",
   "execution_count": 44,
   "id": "aebf4d29",
   "metadata": {},
   "outputs": [
    {
     "data": {
      "text/plain": [
       "[('Cezary', 'Abacki', 17), ('Beata', 'Babacka', 25), ('Adam', 'Cabacki', 45)]"
      ]
     },
     "execution_count": 44,
     "metadata": {},
     "output_type": "execute_result"
    }
   ],
   "source": [
    "sorted(wyniki, key=lambda x: x[1])"
   ]
  },
  {
   "cell_type": "code",
   "execution_count": 45,
   "id": "2e7a9010",
   "metadata": {},
   "outputs": [
    {
     "data": {
      "text/plain": [
       "[('Adam', 'Cabacki', 45), ('Beata', 'Babacka', 25), ('Cezary', 'Abacki', 17)]"
      ]
     },
     "execution_count": 45,
     "metadata": {},
     "output_type": "execute_result"
    }
   ],
   "source": [
    "sorted(wyniki, key=lambda x: x[2], reverse=True)"
   ]
  },
  {
   "cell_type": "markdown",
   "id": "64387580",
   "metadata": {},
   "source": [
    "## Weryfikacja poprawności parametrów przekazywanych do funkcji "
   ]
  },
  {
   "cell_type": "code",
   "execution_count": 46,
   "id": "87b26c9d",
   "metadata": {},
   "outputs": [],
   "source": [
    "def fun10(a, b, c):\n",
    "    return 100 * a + 10 * b + c"
   ]
  },
  {
   "cell_type": "code",
   "execution_count": 47,
   "id": "5d008f82",
   "metadata": {},
   "outputs": [
    {
     "name": "stdout",
     "output_type": "stream",
     "text": [
      "123\n"
     ]
    }
   ],
   "source": [
    "print(fun10(1, 2, 3))"
   ]
  },
  {
   "cell_type": "code",
   "execution_count": 48,
   "id": "5be66501",
   "metadata": {},
   "outputs": [
    {
     "ename": "TypeError",
     "evalue": "unsupported operand type(s) for +: 'int' and 'str'",
     "output_type": "error",
     "traceback": [
      "\u001b[1;31m---------------------------------------------------------------------------\u001b[0m",
      "\u001b[1;31mTypeError\u001b[0m                                 Traceback (most recent call last)",
      "\u001b[1;32m~\\AppData\\Local\\Temp\\ipykernel_11864\\3653965886.py\u001b[0m in \u001b[0;36m<module>\u001b[1;34m\u001b[0m\n\u001b[1;32m----> 1\u001b[1;33m \u001b[0mprint\u001b[0m\u001b[1;33m(\u001b[0m\u001b[0mfun10\u001b[0m\u001b[1;33m(\u001b[0m\u001b[1;36m1\u001b[0m\u001b[1;33m,\u001b[0m \u001b[1;36m2\u001b[0m\u001b[1;33m,\u001b[0m \u001b[1;34m'3'\u001b[0m\u001b[1;33m)\u001b[0m\u001b[1;33m)\u001b[0m\u001b[1;33m\u001b[0m\u001b[1;33m\u001b[0m\u001b[0m\n\u001b[0m",
      "\u001b[1;32m~\\AppData\\Local\\Temp\\ipykernel_11864\\3627424387.py\u001b[0m in \u001b[0;36mfun10\u001b[1;34m(a, b, c)\u001b[0m\n\u001b[0;32m      1\u001b[0m \u001b[1;32mdef\u001b[0m \u001b[0mfun10\u001b[0m\u001b[1;33m(\u001b[0m\u001b[0ma\u001b[0m\u001b[1;33m,\u001b[0m \u001b[0mb\u001b[0m\u001b[1;33m,\u001b[0m \u001b[0mc\u001b[0m\u001b[1;33m)\u001b[0m\u001b[1;33m:\u001b[0m\u001b[1;33m\u001b[0m\u001b[1;33m\u001b[0m\u001b[0m\n\u001b[1;32m----> 2\u001b[1;33m     \u001b[1;32mreturn\u001b[0m \u001b[1;36m100\u001b[0m \u001b[1;33m*\u001b[0m \u001b[0ma\u001b[0m \u001b[1;33m+\u001b[0m \u001b[1;36m10\u001b[0m \u001b[1;33m*\u001b[0m \u001b[0mb\u001b[0m \u001b[1;33m+\u001b[0m \u001b[0mc\u001b[0m\u001b[1;33m\u001b[0m\u001b[1;33m\u001b[0m\u001b[0m\n\u001b[0m",
      "\u001b[1;31mTypeError\u001b[0m: unsupported operand type(s) for +: 'int' and 'str'"
     ]
    }
   ],
   "source": [
    "print(fun10(1, 2, '3'))"
   ]
  },
  {
   "cell_type": "markdown",
   "id": "73b1880b",
   "metadata": {},
   "source": [
    "### Instrukcja [assert](https://docs.python.org/3/reference/simple_stmts.html#the-assert-statement)"
   ]
  },
  {
   "cell_type": "code",
   "execution_count": 52,
   "id": "65ae561d",
   "metadata": {},
   "outputs": [],
   "source": [
    "def fun11(a, b, c):\n",
    "    assert type(a) is int or type(a) is float, 'niepoprawny typ parametru a'\n",
    "    assert type(b) is int or type(b) is float, 'niepoprawny typ parametru b'\n",
    "    assert type(c) is int or type(c) is float, 'niepoprawny typ parametru c'\n",
    "    \n",
    "    return 100 * a + 10 * b  + c"
   ]
  },
  {
   "cell_type": "code",
   "execution_count": 53,
   "id": "731dd051",
   "metadata": {},
   "outputs": [
    {
     "data": {
      "text/plain": [
       "123"
      ]
     },
     "execution_count": 53,
     "metadata": {},
     "output_type": "execute_result"
    }
   ],
   "source": [
    "fun11(1, 2, 3)"
   ]
  },
  {
   "cell_type": "code",
   "execution_count": 54,
   "id": "8c9eb2d5",
   "metadata": {},
   "outputs": [
    {
     "ename": "AssertionError",
     "evalue": "niepoprawny typ parametru c",
     "output_type": "error",
     "traceback": [
      "\u001b[1;31m---------------------------------------------------------------------------\u001b[0m",
      "\u001b[1;31mAssertionError\u001b[0m                            Traceback (most recent call last)",
      "\u001b[1;32m~\\AppData\\Local\\Temp\\ipykernel_11864\\1311650180.py\u001b[0m in \u001b[0;36m<module>\u001b[1;34m\u001b[0m\n\u001b[1;32m----> 1\u001b[1;33m \u001b[0mfun11\u001b[0m\u001b[1;33m(\u001b[0m\u001b[1;36m1\u001b[0m\u001b[1;33m,\u001b[0m \u001b[1;36m2\u001b[0m\u001b[1;33m,\u001b[0m \u001b[1;34m'3'\u001b[0m\u001b[1;33m)\u001b[0m\u001b[1;33m\u001b[0m\u001b[1;33m\u001b[0m\u001b[0m\n\u001b[0m",
      "\u001b[1;32m~\\AppData\\Local\\Temp\\ipykernel_11864\\766155846.py\u001b[0m in \u001b[0;36mfun11\u001b[1;34m(a, b, c)\u001b[0m\n\u001b[0;32m      2\u001b[0m     \u001b[1;32massert\u001b[0m \u001b[0mtype\u001b[0m\u001b[1;33m(\u001b[0m\u001b[0ma\u001b[0m\u001b[1;33m)\u001b[0m \u001b[1;32mis\u001b[0m \u001b[0mint\u001b[0m \u001b[1;32mor\u001b[0m \u001b[0mtype\u001b[0m\u001b[1;33m(\u001b[0m\u001b[0ma\u001b[0m\u001b[1;33m)\u001b[0m \u001b[1;32mis\u001b[0m \u001b[0mfloat\u001b[0m\u001b[1;33m,\u001b[0m \u001b[1;34m'niepoprawny typ parametru a'\u001b[0m\u001b[1;33m\u001b[0m\u001b[1;33m\u001b[0m\u001b[0m\n\u001b[0;32m      3\u001b[0m     \u001b[1;32massert\u001b[0m \u001b[0mtype\u001b[0m\u001b[1;33m(\u001b[0m\u001b[0mb\u001b[0m\u001b[1;33m)\u001b[0m \u001b[1;32mis\u001b[0m \u001b[0mint\u001b[0m \u001b[1;32mor\u001b[0m \u001b[0mtype\u001b[0m\u001b[1;33m(\u001b[0m\u001b[0mb\u001b[0m\u001b[1;33m)\u001b[0m \u001b[1;32mis\u001b[0m \u001b[0mfloat\u001b[0m\u001b[1;33m,\u001b[0m \u001b[1;34m'niepoprawny typ parametru b'\u001b[0m\u001b[1;33m\u001b[0m\u001b[1;33m\u001b[0m\u001b[0m\n\u001b[1;32m----> 4\u001b[1;33m     \u001b[1;32massert\u001b[0m \u001b[0mtype\u001b[0m\u001b[1;33m(\u001b[0m\u001b[0mc\u001b[0m\u001b[1;33m)\u001b[0m \u001b[1;32mis\u001b[0m \u001b[0mint\u001b[0m \u001b[1;32mor\u001b[0m \u001b[0mtype\u001b[0m\u001b[1;33m(\u001b[0m\u001b[0mc\u001b[0m\u001b[1;33m)\u001b[0m \u001b[1;32mis\u001b[0m \u001b[0mfloat\u001b[0m\u001b[1;33m,\u001b[0m \u001b[1;34m'niepoprawny typ parametru c'\u001b[0m\u001b[1;33m\u001b[0m\u001b[1;33m\u001b[0m\u001b[0m\n\u001b[0m\u001b[0;32m      5\u001b[0m \u001b[1;33m\u001b[0m\u001b[0m\n\u001b[0;32m      6\u001b[0m     \u001b[1;32mreturn\u001b[0m \u001b[1;36m100\u001b[0m \u001b[1;33m*\u001b[0m \u001b[0ma\u001b[0m \u001b[1;33m+\u001b[0m \u001b[1;36m10\u001b[0m \u001b[1;33m*\u001b[0m \u001b[0mb\u001b[0m  \u001b[1;33m+\u001b[0m \u001b[0mc\u001b[0m\u001b[1;33m\u001b[0m\u001b[1;33m\u001b[0m\u001b[0m\n",
      "\u001b[1;31mAssertionError\u001b[0m: niepoprawny typ parametru c"
     ]
    }
   ],
   "source": [
    "fun11(1, 2, '3')"
   ]
  },
  {
   "cell_type": "markdown",
   "id": "fab321c0",
   "metadata": {},
   "source": [
    "### [Type hints](https://docs.python.org/3/library/typing.html)"
   ]
  },
  {
   "cell_type": "code",
   "execution_count": 55,
   "id": "644d55ef",
   "metadata": {},
   "outputs": [],
   "source": [
    "def fun12(a: float, b: float, c: float) -> float:\n",
    "    return 100 * a + 10 * b + c"
   ]
  },
  {
   "cell_type": "code",
   "execution_count": 56,
   "id": "25b077be",
   "metadata": {},
   "outputs": [
    {
     "data": {
      "text/plain": [
       "123"
      ]
     },
     "execution_count": 56,
     "metadata": {},
     "output_type": "execute_result"
    }
   ],
   "source": [
    "fun12(1, 2, 3)"
   ]
  },
  {
   "cell_type": "code",
   "execution_count": 57,
   "id": "8367d24a",
   "metadata": {},
   "outputs": [
    {
     "ename": "TypeError",
     "evalue": "unsupported operand type(s) for +: 'int' and 'str'",
     "output_type": "error",
     "traceback": [
      "\u001b[1;31m---------------------------------------------------------------------------\u001b[0m",
      "\u001b[1;31mTypeError\u001b[0m                                 Traceback (most recent call last)",
      "\u001b[1;32m~\\AppData\\Local\\Temp\\ipykernel_11864\\3972165512.py\u001b[0m in \u001b[0;36m<module>\u001b[1;34m\u001b[0m\n\u001b[1;32m----> 1\u001b[1;33m \u001b[0mfun12\u001b[0m\u001b[1;33m(\u001b[0m\u001b[1;36m1\u001b[0m\u001b[1;33m,\u001b[0m \u001b[1;36m2\u001b[0m\u001b[1;33m,\u001b[0m \u001b[1;34m'3'\u001b[0m\u001b[1;33m)\u001b[0m\u001b[1;33m\u001b[0m\u001b[1;33m\u001b[0m\u001b[0m\n\u001b[0m",
      "\u001b[1;32m~\\AppData\\Local\\Temp\\ipykernel_11864\\3872257262.py\u001b[0m in \u001b[0;36mfun12\u001b[1;34m(a, b, c)\u001b[0m\n\u001b[0;32m      1\u001b[0m \u001b[1;32mdef\u001b[0m \u001b[0mfun12\u001b[0m\u001b[1;33m(\u001b[0m\u001b[0ma\u001b[0m\u001b[1;33m:\u001b[0m \u001b[0mfloat\u001b[0m\u001b[1;33m,\u001b[0m \u001b[0mb\u001b[0m\u001b[1;33m:\u001b[0m \u001b[0mfloat\u001b[0m\u001b[1;33m,\u001b[0m \u001b[0mc\u001b[0m\u001b[1;33m:\u001b[0m \u001b[0mfloat\u001b[0m\u001b[1;33m)\u001b[0m \u001b[1;33m->\u001b[0m \u001b[0mfloat\u001b[0m\u001b[1;33m:\u001b[0m\u001b[1;33m\u001b[0m\u001b[1;33m\u001b[0m\u001b[0m\n\u001b[1;32m----> 2\u001b[1;33m     \u001b[1;32mreturn\u001b[0m \u001b[1;36m100\u001b[0m \u001b[1;33m*\u001b[0m \u001b[0ma\u001b[0m \u001b[1;33m+\u001b[0m \u001b[1;36m10\u001b[0m \u001b[1;33m*\u001b[0m \u001b[0mb\u001b[0m \u001b[1;33m+\u001b[0m \u001b[0mc\u001b[0m\u001b[1;33m\u001b[0m\u001b[1;33m\u001b[0m\u001b[0m\n\u001b[0m",
      "\u001b[1;31mTypeError\u001b[0m: unsupported operand type(s) for +: 'int' and 'str'"
     ]
    }
   ],
   "source": [
    "fun12(1, 2, '3')"
   ]
  },
  {
   "cell_type": "markdown",
   "id": "97083ccb",
   "metadata": {},
   "source": [
    "## Podział kodu programu na moduły i pakiety\n",
    "\n",
    "<div style=\"padding-top: 36px; padding-bottom: 36px;\"><img src=\"img/moduly_pakiety.png\"></div>\n",
    "\n",
    "### instrukcja `import`"
   ]
  },
  {
   "cell_type": "markdown",
   "id": "d4de706f",
   "metadata": {},
   "source": [
    "## Styl kodowania\n",
    "\n",
    "* [PEP 8 – Style Guide for Python Code](https://peps.python.org/pep-0008/)\n",
    "  * [Google Python Style Guide](https://google.github.io/styleguide/pyguide.html)\n",
    "  * ...\n",
    "* [PEP 257 – Docstring Conventions](https://peps.python.org/pep-0257/)"
   ]
  }
 ],
 "metadata": {
  "kernelspec": {
   "display_name": "Python 3 (ipykernel)",
   "language": "python",
   "name": "python3"
  },
  "language_info": {
   "codemirror_mode": {
    "name": "ipython",
    "version": 3
   },
   "file_extension": ".py",
   "mimetype": "text/x-python",
   "name": "python",
   "nbconvert_exporter": "python",
   "pygments_lexer": "ipython3",
   "version": "3.9.13"
  }
 },
 "nbformat": 4,
 "nbformat_minor": 5
}
