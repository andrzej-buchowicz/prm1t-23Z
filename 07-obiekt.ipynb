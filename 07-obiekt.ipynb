{
 "cells": [
  {
   "cell_type": "markdown",
   "id": "11b5187e-348f-42ad-97fb-56e2b9af0fbf",
   "metadata": {},
   "source": [
    "<div style=\"text-align: center; color: #7896cf; font-size: 32px; font-weight: bold; font-family: Arial, Helvetica, sans-serif; padding-bottom: 12px;\">PODSTAWY PROGRAMOWANIA 1</div>\n",
    "<div style=\"text-align: center; color: #3c3c4c; font-size: large; font-family:monospace; padding-bottom:18px;\"> andrzej.buchowicz@pw.edu.pl</div>\n",
    "<div style=\"text-align: center; font-size: 48px; font-family: Arial, Helvetica, sans-serif; padding-bottom: 24px; line-height: 1.25;\">Programowanie obiektowe.<br/>Obsługa błędów - wyjątki</div>"
   ]
  },
  {
   "cell_type": "markdown",
   "id": "0711dab0",
   "metadata": {},
   "source": [
    "##  [Paradygmaty programowania](https://pl.wikipedia.org/wiki/Paradygmat_programowania)\n",
    "* [...]\n",
    "* programowanie funkcyjne\n",
    "* programowanie strukturalne\n",
    "* programowanie obiektowe\n",
    "* [...]"
   ]
  },
  {
   "cell_type": "markdown",
   "id": "9f8eb280",
   "metadata": {},
   "source": [
    "# Programowanie funkcyjne\n",
    "* zamiast przypisań i pętli stosuje definicje funkcji oraz ich rekurencyjne wywołania\n",
    "* funkcje są 'obywatelami pierwszej kategorii' - mogą być wykorzystywane wszędzie tam gdzie są stosowane stałe i zmienne, np. jako argumenty funkcji\n",
    "* podstawą teroretyczną programowania funkcyjnego jest [rachunek lambda](https://pl.wikipedia.org/wiki/Rachunek_lambda)\n",
    "* język Python umożliwa programowanie funkcyjne - m.in. funkcje [filter()](https://docs.python.org/3/library/functions.html#filter), [map()](https://docs.python.org/3/library/functions.html#map), [functools.reduce()](https://docs.python.org/3/library/functools.html#functools.reduce)"
   ]
  },
  {
   "cell_type": "markdown",
   "id": "b64b90d9",
   "metadata": {},
   "source": [
    "## Programowanie strukturalne\n",
    "* podział kodu źródłowego programu na hierarchiczne bloki\n",
    "* sterowanie programem w trakcie wykonania za pomocą instrukcji warunkowych i pętli\n",
    "* stosowanie zmiennych globalnych w ograniczonym zakresie i tylko w uzasadnionych przypadkach"
   ]
  },
  {
   "cell_type": "code",
   "execution_count": 1,
   "id": "795309ff",
   "metadata": {},
   "outputs": [],
   "source": [
    "import json\n",
    "\n",
    "\n",
    "def wczytaj_przedmioty(nazwa_pliku):\n",
    "    przedmioty = {}\n",
    "    with open(nazwa_pliku, 'r', encoding='utf-8') as file:\n",
    "        for line in file:\n",
    "            nazwa_przedmiotu = line.strip()\n",
    "            przedmioty[nazwa_przedmiotu] = {}\n",
    "    return przedmioty\n",
    "\n",
    "\n",
    "def dodaj_ects(przedmioty):\n",
    "    for nazwa_przedmiotu in przedmioty.keys():\n",
    "        if nazwa_przedmiotu.startswith('Analiza'):\n",
    "            przedmioty[nazwa_przedmiotu] = {'ects': 5}\n",
    "        else:\n",
    "            przedmioty[nazwa_przedmiotu] = {'ects': 4}\n",
    "    return przedmioty\n",
    "\n",
    "# \\todo dodaj_liczba_godzin(), dodaj_konspekt(), ...\n",
    "\n",
    "def zapisz_przedmioty(przedmioty, nazwa_pliku):\n",
    "    with open(nazwa_pliku, 'w') as file:\n",
    "        json.dump(przedmioty, file, indent=\"  \")"
   ]
  },
  {
   "cell_type": "code",
   "execution_count": 2,
   "id": "daa41202",
   "metadata": {},
   "outputs": [
    {
     "name": "stdout",
     "output_type": "stream",
     "text": [
      "{'Algebra': {}, 'Analiza 1': {}, 'Analiza 2': {}, 'Probabilistyka': {}, 'Elementy elektroniczne': {}, 'Podstawy elektroniki pomiarów 1': {}, 'Podstawy elektroniki pomiarów 2': {}, 'Układy elektroniczne': {}}\n"
     ]
    }
   ],
   "source": [
    "przedmioty = wczytaj_przedmioty('data/przedmioty.txt')\n",
    "print(przedmioty)"
   ]
  },
  {
   "cell_type": "code",
   "execution_count": 3,
   "id": "35f2cf87",
   "metadata": {},
   "outputs": [
    {
     "name": "stdout",
     "output_type": "stream",
     "text": [
      "{'Algebra': {'ects': 4}, 'Analiza 1': {'ects': 5}, 'Analiza 2': {'ects': 5}, 'Probabilistyka': {'ects': 4}, 'Elementy elektroniczne': {'ects': 4}, 'Podstawy elektroniki pomiarów 1': {'ects': 4}, 'Podstawy elektroniki pomiarów 2': {'ects': 4}, 'Układy elektroniczne': {'ects': 4}}\n"
     ]
    }
   ],
   "source": [
    "przedmioty = dodaj_ects(przedmioty)\n",
    "print(przedmioty)"
   ]
  },
  {
   "cell_type": "code",
   "execution_count": 4,
   "id": "1b589747",
   "metadata": {},
   "outputs": [],
   "source": [
    "zapisz_przedmioty(przedmioty, 'data/przedmioty.json')"
   ]
  },
  {
   "cell_type": "markdown",
   "id": "4ded938a",
   "metadata": {},
   "source": [
    "## Programowanie obiektowe\n",
    "* **Abstrakcja** - rzeczywiste obiekty są reprezentowane w programie przez ich uproszczony model, który odzwierciedla wybrane, najwazniejsze w danym przypadku, cechy rzeczywistego obiektu.\n",
    "* **Hermetyzacja** - wewnętrza struktura obiektu jest niewidoczna dla innych obiektów. Zmiana stanu obiektu, tzn. zmiana wartości jego wewnętrznych zmiennych, moze nastąpić tylko w wyniku wywołania odpowiednich metod zdefiniowanych dla tego obiektu\n",
    "* **Dziedziczenie** - obiekty w programie komputerowym mogą tworzyć hierarchiczną strukturę. Obiekt powiązany w tej strukturze z innym obiektem, może przejąć - dziedziczyć - właściwości powiązanego obiektu\n",
    "* **Polimorfizm** - w hierarchicznej strukturze obiektów powiązanych relacją dziedziczenia metoda moze być zdefiniowana dla wielu obiektów. W zależności od kontekstu jest wywoływana dla odpowiedniego obiektu w hierarchii"
   ]
  },
  {
   "cell_type": "code",
   "execution_count": 6,
   "id": "af4c1f79",
   "metadata": {},
   "outputs": [],
   "source": [
    "class Przedmioty:\n",
    "    def __init__(self):\n",
    "        self.__przedmioty = {}\n",
    "\n",
    "    def wczytaj(self, nazwa_pliku):\n",
    "        with open(nazwa_pliku, 'r', encoding='utf-8') as file:\n",
    "            for line in file:\n",
    "                nazwa_przedmiotu = line.strip()\n",
    "                self.__przedmioty[nazwa_przedmiotu] = {}\n",
    "\n",
    "    def dodaj_ects(self):\n",
    "        for nazwa_przedmiotu in self.__przedmioty.keys():\n",
    "            if nazwa_przedmiotu.startswith('Analiza'):\n",
    "                self.__przedmioty[nazwa_przedmiotu] = {'ects': 5}\n",
    "            else:\n",
    "                self.__przedmioty[nazwa_przedmiotu] = {'ects': 4}\n",
    "\n",
    "    def zapisz(self, nazwa_pliku):\n",
    "        with open(nazwa_pliku, 'w') as file:\n",
    "            json.dump(self.__przedmioty, file, indent=\"  \")\n",
    "            \n",
    "    def drukuj(self):\n",
    "        print(self.__przedmioty)"
   ]
  },
  {
   "cell_type": "code",
   "execution_count": 7,
   "id": "7ff2dfcd",
   "metadata": {},
   "outputs": [
    {
     "name": "stdout",
     "output_type": "stream",
     "text": [
      "{'Algebra': {}, 'Analiza 1': {}, 'Analiza 2': {}, 'Probabilistyka': {}, 'Elementy elektroniczne': {}, 'Podstawy elektroniki pomiarów 1': {}, 'Podstawy elektroniki pomiarów 2': {}, 'Układy elektroniczne': {}}\n"
     ]
    }
   ],
   "source": [
    "przedmioty = Przedmioty()\n",
    "przedmioty.wczytaj('data/przedmioty.txt')\n",
    "przedmioty.drukuj()"
   ]
  },
  {
   "cell_type": "markdown",
   "id": "3676b77b",
   "metadata": {},
   "source": [
    "### Zmiene prywatne"
   ]
  },
  {
   "cell_type": "code",
   "execution_count": 8,
   "id": "3cfabd07",
   "metadata": {},
   "outputs": [
    {
     "ename": "AttributeError",
     "evalue": "'Przedmioty' object has no attribute '__przedmioty'",
     "output_type": "error",
     "traceback": [
      "\u001b[1;31m---------------------------------------------------------------------------\u001b[0m",
      "\u001b[1;31mAttributeError\u001b[0m                            Traceback (most recent call last)",
      "\u001b[1;32m~\\AppData\\Local\\Temp\\ipykernel_16404\\1416141300.py\u001b[0m in \u001b[0;36m<module>\u001b[1;34m\u001b[0m\n\u001b[1;32m----> 1\u001b[1;33m \u001b[0mprzedmioty\u001b[0m\u001b[1;33m.\u001b[0m\u001b[0m__przedmioty\u001b[0m\u001b[1;33m\u001b[0m\u001b[1;33m\u001b[0m\u001b[0m\n\u001b[0m",
      "\u001b[1;31mAttributeError\u001b[0m: 'Przedmioty' object has no attribute '__przedmioty'"
     ]
    }
   ],
   "source": [
    "przedmioty.__przedmioty"
   ]
  },
  {
   "cell_type": "code",
   "execution_count": 9,
   "id": "5b7e064e",
   "metadata": {},
   "outputs": [
    {
     "data": {
      "text/plain": [
       "['_Przedmioty__przedmioty',\n",
       " '__class__',\n",
       " '__delattr__',\n",
       " '__dict__',\n",
       " '__dir__',\n",
       " '__doc__',\n",
       " '__eq__',\n",
       " '__format__',\n",
       " '__ge__',\n",
       " '__getattribute__',\n",
       " '__gt__',\n",
       " '__hash__',\n",
       " '__init__',\n",
       " '__init_subclass__',\n",
       " '__le__',\n",
       " '__lt__',\n",
       " '__module__',\n",
       " '__ne__',\n",
       " '__new__',\n",
       " '__reduce__',\n",
       " '__reduce_ex__',\n",
       " '__repr__',\n",
       " '__setattr__',\n",
       " '__sizeof__',\n",
       " '__str__',\n",
       " '__subclasshook__',\n",
       " '__weakref__',\n",
       " 'dodaj_ects',\n",
       " 'drukuj',\n",
       " 'wczytaj',\n",
       " 'zapisz']"
      ]
     },
     "execution_count": 9,
     "metadata": {},
     "output_type": "execute_result"
    }
   ],
   "source": [
    "dir(przedmioty)"
   ]
  },
  {
   "cell_type": "code",
   "execution_count": 10,
   "id": "f86ebf5e",
   "metadata": {},
   "outputs": [
    {
     "data": {
      "text/plain": [
       "{'Algebra': {},\n",
       " 'Analiza 1': {},\n",
       " 'Analiza 2': {},\n",
       " 'Probabilistyka': {},\n",
       " 'Elementy elektroniczne': {},\n",
       " 'Podstawy elektroniki pomiarów 1': {},\n",
       " 'Podstawy elektroniki pomiarów 2': {},\n",
       " 'Układy elektroniczne': {}}"
      ]
     },
     "execution_count": 10,
     "metadata": {},
     "output_type": "execute_result"
    }
   ],
   "source": [
    "przedmioty._Przedmioty__przedmioty"
   ]
  },
  {
   "cell_type": "markdown",
   "id": "c2b0cbd2",
   "metadata": {},
   "source": [
    "### Dziedziczenie\n",
    "\n",
    "<div style=\"padding-top: 24pt; padding-bottom: 24pt;\"><img src=\"img/wielokat.png\"></div>"
   ]
  },
  {
   "cell_type": "code",
   "execution_count": 12,
   "id": "e21c6c84",
   "metadata": {},
   "outputs": [],
   "source": [
    "import math\n",
    "\n",
    "\n",
    "class Wielokat:\n",
    "    def __init__(self, punkty):\n",
    "        self.punkty = punkty\n",
    "\n",
    "    def oblicz_odleglosc(self, punkt1, punkt2):\n",
    "        return math.sqrt((punkt1[0] - punkt2[0])**2 + (punkt1[1] - punkt2[1])**2)\n",
    "\n",
    "    def oblicz_obwod(self, ):\n",
    "        obwod = 0\n",
    "        for i in range(len(self.punkty) - 1):\n",
    "            obwod += self.oblicz_odleglosc(self.punkty[i], self.punkty[i + 1])\n",
    "        obwod += self.oblicz_odleglosc(self.punkty[-1], self.punkty[0])\n",
    "        return obwod\n",
    "\n",
    "    def oblicz_pole(self):\n",
    "        return None"
   ]
  },
  {
   "cell_type": "code",
   "execution_count": 13,
   "id": "cc1ebe51",
   "metadata": {},
   "outputs": [
    {
     "name": "stdout",
     "output_type": "stream",
     "text": [
      "None\n",
      "2.8284271247461903\n"
     ]
    }
   ],
   "source": [
    "wielokat = Wielokat([(0, 0), (1, 1)])\n",
    "print(wielokat.oblicz_pole())\n",
    "print(wielokat.oblicz_obwod())"
   ]
  },
  {
   "cell_type": "code",
   "execution_count": 16,
   "id": "3b64081b",
   "metadata": {},
   "outputs": [],
   "source": [
    "class Trojkat(Wielokat):\n",
    "    def __init__(self, punkty):\n",
    "        # \\todo sprawdzic poprawnosc danych !!!\n",
    "        Wielokat.__init__(self, punkty)\n",
    "\n",
    "    def oblicz_pole(self):\n",
    "        a = self.oblicz_odleglosc(self.punkty[0], self.punkty[1])\n",
    "        b = self.oblicz_odleglosc(self.punkty[1], self.punkty[2])\n",
    "        c = self.oblicz_odleglosc(self.punkty[2], self.punkty[0])\n",
    "        p = (a + b + c) / 2\n",
    "        return math.sqrt(p * (p - a) * (p - b) * (p - c))"
   ]
  },
  {
   "cell_type": "markdown",
   "id": "57a754ac",
   "metadata": {},
   "source": [
    "#### Pole trójkąta - [wzór Herona](https://pl.wikipedia.org/wiki/Wz%C3%B3r_Herona)\n",
    "\n",
    "$$p = \\frac{1}{2}\\left( a + b + c \\right)$$\n",
    "\n",
    "$$S = \\sqrt{ p (p - a) (p - b) (p -c) }$$ "
   ]
  },
  {
   "cell_type": "code",
   "execution_count": 17,
   "id": "d4922b35",
   "metadata": {},
   "outputs": [],
   "source": [
    "trojkat = Trojkat([(0, 0), (1, 0), (0, 1)])"
   ]
  },
  {
   "cell_type": "markdown",
   "id": "785ca32f",
   "metadata": {},
   "source": [
    "![trojkat.png](img/trojkat.png)"
   ]
  },
  {
   "cell_type": "code",
   "execution_count": 18,
   "id": "ab2b77ae",
   "metadata": {},
   "outputs": [
    {
     "name": "stdout",
     "output_type": "stream",
     "text": [
      "obwod= 3.414  pole= 0.500\n"
     ]
    }
   ],
   "source": [
    "print(f\"obwod={trojkat.oblicz_obwod():6.3f}  pole={trojkat.oblicz_pole():6.3f}\")"
   ]
  },
  {
   "cell_type": "code",
   "execution_count": 40,
   "id": "51f21cb9",
   "metadata": {},
   "outputs": [],
   "source": [
    "class Prostokat(Wielokat):\n",
    "    def __init__(self, wierzcholki):\n",
    "        # \\todo sprawdzic poprawnosc danych !!!\n",
    "        super().__init__(wierzcholki)\n",
    "\n",
    "    def oblicz_pole(self):\n",
    "        a = self.oblicz_odleglosc(self.punkty[0], self.punkty[1])\n",
    "        b = self.oblicz_odleglosc(self.punkty[1], self.punkty[2])\n",
    "        return a * b\n",
    "    \n",
    "    def __str__(self):\n",
    "        return \"Prostokat: \" + str(self.punkty)\n",
    "    \n",
    "    def __repr__(self):\n",
    "        return self.__str__()\n",
    "    \n",
    "    def __eq__(self, other):\n",
    "        assert isinstance(other, Prostokat)\n",
    "        return self.oblicz_pole() == other.oblicz_pole()"
   ]
  },
  {
   "cell_type": "code",
   "execution_count": 41,
   "id": "ac6373f4",
   "metadata": {},
   "outputs": [],
   "source": [
    "prostokat = Prostokat([(0, 0), (1, 0), (1, 1), (0, 1)])"
   ]
  },
  {
   "cell_type": "markdown",
   "id": "cee909df",
   "metadata": {},
   "source": [
    "![kwadrat.png](img/kwadrat.png)"
   ]
  },
  {
   "cell_type": "code",
   "execution_count": 30,
   "id": "9f9762da",
   "metadata": {},
   "outputs": [
    {
     "name": "stdout",
     "output_type": "stream",
     "text": [
      "obwod= 4.000  pole= 1.000\n"
     ]
    }
   ],
   "source": [
    "print(f\"obwod={prostokat.oblicz_obwod():6.3f}  pole={prostokat.oblicz_pole():6.3f}\")"
   ]
  },
  {
   "cell_type": "markdown",
   "id": "35fb700e",
   "metadata": {},
   "source": [
    "#### Klasy abstrakcyjne - modul [abc](https://docs.python.org/3/library/abc.html)\n",
    "\n",
    "#### [Dziedziczenie wielokrotne](https://docs.python.org/3/tutorial/classes.html)"
   ]
  },
  {
   "cell_type": "markdown",
   "id": "eb84ef35",
   "metadata": {},
   "source": [
    "### Polimorfizm"
   ]
  },
  {
   "cell_type": "code",
   "execution_count": 22,
   "id": "8f8300e2",
   "metadata": {},
   "outputs": [
    {
     "data": {
      "text/plain": [
       "__main__.Trojkat"
      ]
     },
     "execution_count": 22,
     "metadata": {},
     "output_type": "execute_result"
    }
   ],
   "source": [
    "type(trojkat)"
   ]
  },
  {
   "cell_type": "code",
   "execution_count": 23,
   "id": "7d038948",
   "metadata": {},
   "outputs": [
    {
     "data": {
      "text/plain": [
       "__main__.Prostokat"
      ]
     },
     "execution_count": 23,
     "metadata": {},
     "output_type": "execute_result"
    }
   ],
   "source": [
    "type(prostokat)"
   ]
  },
  {
   "cell_type": "code",
   "execution_count": 24,
   "id": "0b9a39de",
   "metadata": {},
   "outputs": [
    {
     "data": {
      "text/plain": [
       "True"
      ]
     },
     "execution_count": 24,
     "metadata": {},
     "output_type": "execute_result"
    }
   ],
   "source": [
    "isinstance(trojkat, Wielokat)"
   ]
  },
  {
   "cell_type": "code",
   "execution_count": 25,
   "id": "42f661b9",
   "metadata": {},
   "outputs": [
    {
     "data": {
      "text/plain": [
       "True"
      ]
     },
     "execution_count": 25,
     "metadata": {},
     "output_type": "execute_result"
    }
   ],
   "source": [
    "isinstance(prostokat, Wielokat)"
   ]
  },
  {
   "cell_type": "markdown",
   "id": "391fd4b7",
   "metadata": {},
   "source": [
    "### Metody 'specjalne'\n",
    "\n",
    "#### Reprezentacja obiektu w postaci tekstu - metody `__str__`, `__repr__`"
   ]
  },
  {
   "cell_type": "code",
   "execution_count": 35,
   "id": "527490bb",
   "metadata": {},
   "outputs": [
    {
     "data": {
      "text/plain": [
       "Prostokat: [(0, 0), (1, 0), (1, 1), (0, 1)]"
      ]
     },
     "execution_count": 35,
     "metadata": {},
     "output_type": "execute_result"
    }
   ],
   "source": [
    "prostokat"
   ]
  },
  {
   "cell_type": "code",
   "execution_count": 36,
   "id": "ab7959ac",
   "metadata": {},
   "outputs": [
    {
     "name": "stdout",
     "output_type": "stream",
     "text": [
      "Prostokat: [(0, 0), (1, 0), (1, 1), (0, 1)]\n"
     ]
    }
   ],
   "source": [
    "print(prostokat)"
   ]
  },
  {
   "cell_type": "markdown",
   "id": "665f3ef4",
   "metadata": {},
   "source": [
    "#### Porównywanie obiektów - metody `__eq__`, `__lt__`, ..."
   ]
  },
  {
   "cell_type": "code",
   "execution_count": 42,
   "id": "f4b63bc4",
   "metadata": {},
   "outputs": [
    {
     "name": "stdout",
     "output_type": "stream",
     "text": [
      "Prostokat: [(0, 0), (0, 1), (1, 1), (1, 0)] Prostokat: [(0, 0), (0, 1), (1, 1), (1, 0)]\n"
     ]
    }
   ],
   "source": [
    "prostokat1 = Prostokat([(0, 0), (0, 1), (1, 1), (1, 0)])\n",
    "prostokat2 = Prostokat([(0, 0), (0, 1), (1, 1), (1, 0)])\n",
    "print(prostokat1, prostokat2)"
   ]
  },
  {
   "cell_type": "code",
   "execution_count": 43,
   "id": "c99ab951",
   "metadata": {},
   "outputs": [
    {
     "data": {
      "text/plain": [
       "True"
      ]
     },
     "execution_count": 43,
     "metadata": {},
     "output_type": "execute_result"
    }
   ],
   "source": [
    "prostokat1 == prostokat2"
   ]
  },
  {
   "cell_type": "code",
   "execution_count": 44,
   "id": "a5f97a34",
   "metadata": {},
   "outputs": [
    {
     "data": {
      "text/plain": [
       "(2263889206144, 2263889203936)"
      ]
     },
     "execution_count": 44,
     "metadata": {},
     "output_type": "execute_result"
    }
   ],
   "source": [
    "id(prostokat1), id(prostokat2)"
   ]
  },
  {
   "cell_type": "markdown",
   "id": "8314008c",
   "metadata": {},
   "source": [
    "### Pola statyczne (klasy)"
   ]
  },
  {
   "cell_type": "code",
   "execution_count": 1,
   "id": "67b3b4e9",
   "metadata": {},
   "outputs": [],
   "source": [
    "class Pojazd:\n",
    "    licznik = 0\n",
    "\n",
    "    def __init__(self, liczba_kol):\n",
    "        self.liczba_kol = liczba_kol\n",
    "        Pojazd.licznik += 1"
   ]
  },
  {
   "cell_type": "code",
   "execution_count": 2,
   "id": "41a907dd",
   "metadata": {},
   "outputs": [
    {
     "name": "stdout",
     "output_type": "stream",
     "text": [
      "rower: liczba kol=2 liczba pojazdow=1\n"
     ]
    }
   ],
   "source": [
    "rower = Pojazd(2)\n",
    "print(f'rower: liczba kol={rower.liczba_kol} liczba pojazdow={Pojazd.licznik}')"
   ]
  },
  {
   "cell_type": "code",
   "execution_count": 3,
   "id": "8728e31a",
   "metadata": {},
   "outputs": [
    {
     "name": "stdout",
     "output_type": "stream",
     "text": [
      "samochod osobowy: liczba kol=4  liczba pojazdow=2\n"
     ]
    }
   ],
   "source": [
    "samochod_osobowy = Pojazd(4)\n",
    "print(f'samochod osobowy: liczba kol={samochod_osobowy.liczba_kol}  liczba pojazdow={Pojazd.licznik}')"
   ]
  },
  {
   "cell_type": "code",
   "execution_count": 4,
   "id": "b16aa018",
   "metadata": {},
   "outputs": [
    {
     "name": "stdout",
     "output_type": "stream",
     "text": [
      "samochod ciezarowy: liczba kol=6  liczba pojazdow=3\n"
     ]
    }
   ],
   "source": [
    "samochod_ciezarowy = Pojazd(6)\n",
    "print(f'samochod ciezarowy: liczba kol={samochod_ciezarowy.liczba_kol}  liczba pojazdow={Pojazd.licznik}')"
   ]
  },
  {
   "cell_type": "markdown",
   "id": "1cf53c0a",
   "metadata": {},
   "source": [
    "### Metody statyczne - [funkcja staticmethod()](https://docs.python.org/3/library/functions.html#staticmethod) [dekorator @staticmethod](https://www.digitalocean.com/community/tutorials/python-static-method)"
   ]
  },
  {
   "cell_type": "markdown",
   "id": "cbdf01f5",
   "metadata": {},
   "source": [
    "## Obsługa błędów - wyjątki"
   ]
  },
  {
   "cell_type": "code",
   "execution_count": 5,
   "id": "2dddb6d8",
   "metadata": {},
   "outputs": [
    {
     "ename": "FileNotFoundError",
     "evalue": "[Errno 2] No such file or directory: 'nieistniejacy.plik'",
     "output_type": "error",
     "traceback": [
      "\u001b[1;31m---------------------------------------------------------------------------\u001b[0m",
      "\u001b[1;31mFileNotFoundError\u001b[0m                         Traceback (most recent call last)",
      "\u001b[1;32m~\\AppData\\Local\\Temp\\ipykernel_8744\\1187436081.py\u001b[0m in \u001b[0;36m<module>\u001b[1;34m\u001b[0m\n\u001b[1;32m----> 1\u001b[1;33m \u001b[1;32mwith\u001b[0m \u001b[0mopen\u001b[0m\u001b[1;33m(\u001b[0m\u001b[1;34m'nieistniejacy.plik'\u001b[0m\u001b[1;33m,\u001b[0m \u001b[1;34m'r'\u001b[0m\u001b[1;33m)\u001b[0m \u001b[1;32mas\u001b[0m \u001b[0mfile\u001b[0m\u001b[1;33m:\u001b[0m\u001b[1;33m\u001b[0m\u001b[1;33m\u001b[0m\u001b[0m\n\u001b[0m\u001b[0;32m      2\u001b[0m     \u001b[0mdata\u001b[0m \u001b[1;33m=\u001b[0m \u001b[0mfile\u001b[0m\u001b[1;33m.\u001b[0m\u001b[0mread\u001b[0m\u001b[1;33m(\u001b[0m\u001b[1;33m)\u001b[0m\u001b[1;33m\u001b[0m\u001b[1;33m\u001b[0m\u001b[0m\n",
      "\u001b[1;31mFileNotFoundError\u001b[0m: [Errno 2] No such file or directory: 'nieistniejacy.plik'"
     ]
    }
   ],
   "source": [
    "with open('nieistniejacy.plik', 'r') as file:\n",
    "    data = file.read()"
   ]
  },
  {
   "cell_type": "code",
   "execution_count": 6,
   "id": "846a8ca9",
   "metadata": {},
   "outputs": [
    {
     "name": "stdout",
     "output_type": "stream",
     "text": [
      "Nie znaleziono pliku: [Errno 2] No such file or directory: 'nieistniejacy.plik'\n"
     ]
    }
   ],
   "source": [
    "try:\n",
    "    with open('nieistniejacy.plik', 'r') as file:\n",
    "        data = file.read()\n",
    "except FileNotFoundError as err:\n",
    "    print(\"Nie znaleziono pliku:\", err)"
   ]
  },
  {
   "cell_type": "code",
   "execution_count": 7,
   "id": "c21bb2fe",
   "metadata": {},
   "outputs": [
    {
     "ename": "KeyError",
     "evalue": "'D'",
     "output_type": "error",
     "traceback": [
      "\u001b[1;31m---------------------------------------------------------------------------\u001b[0m",
      "\u001b[1;31mKeyError\u001b[0m                                  Traceback (most recent call last)",
      "\u001b[1;32m~\\AppData\\Local\\Temp\\ipykernel_8744\\2406358642.py\u001b[0m in \u001b[0;36m<module>\u001b[1;34m\u001b[0m\n\u001b[0;32m      1\u001b[0m \u001b[0mkod\u001b[0m \u001b[1;33m=\u001b[0m \u001b[1;33m{\u001b[0m\u001b[1;34m'A'\u001b[0m\u001b[1;33m:\u001b[0m \u001b[1;36m0\u001b[0m\u001b[1;33m,\u001b[0m \u001b[1;34m'B'\u001b[0m\u001b[1;33m:\u001b[0m \u001b[1;36m1\u001b[0m\u001b[1;33m,\u001b[0m \u001b[1;34m'C'\u001b[0m\u001b[1;33m:\u001b[0m \u001b[1;36m5\u001b[0m\u001b[1;33m}\u001b[0m\u001b[1;33m\u001b[0m\u001b[1;33m\u001b[0m\u001b[0m\n\u001b[1;32m----> 2\u001b[1;33m \u001b[0mprint\u001b[0m\u001b[1;33m(\u001b[0m\u001b[0mkod\u001b[0m\u001b[1;33m[\u001b[0m\u001b[1;34m'D'\u001b[0m\u001b[1;33m]\u001b[0m\u001b[1;33m)\u001b[0m\u001b[1;33m\u001b[0m\u001b[1;33m\u001b[0m\u001b[0m\n\u001b[0m",
      "\u001b[1;31mKeyError\u001b[0m: 'D'"
     ]
    }
   ],
   "source": [
    "kod = {'A': 0, 'B': 1, 'C': 5}\n",
    "print(kod['D'])"
   ]
  },
  {
   "cell_type": "code",
   "execution_count": 8,
   "id": "17b5cc48",
   "metadata": {},
   "outputs": [
    {
     "name": "stdout",
     "output_type": "stream",
     "text": [
      "<class 'KeyError'> 'D'\n",
      "{'A': 0, 'B': 1, 'C': 5}\n"
     ]
    }
   ],
   "source": [
    "kod = {'A': 0, 'B': 1, 'C': 5}\n",
    "try:\n",
    "    print(f\"kod['D']={kod['D']}\")\n",
    "except KeyError as err:\n",
    "    print(type(err), err)\n",
    "else:\n",
    "    kod['D'] = 77\n",
    "print(kod)"
   ]
  },
  {
   "cell_type": "code",
   "execution_count": 9,
   "id": "4a89ce33",
   "metadata": {},
   "outputs": [
    {
     "name": "stdout",
     "output_type": "stream",
     "text": [
      "kod['D']=1\n",
      "{'A': 0, 'B': 1, 'C': 5, 'D': 77}\n"
     ]
    }
   ],
   "source": [
    "kod = {'A': 0, 'B': 1, 'C': 5, 'D': 1}\n",
    "try:\n",
    "    print(f\"kod['D']={kod['D']}\")\n",
    "except KeyError as err:\n",
    "    print(type(err), err)\n",
    "else:\n",
    "    kod['D'] = 77\n",
    "print(kod)"
   ]
  },
  {
   "cell_type": "code",
   "execution_count": 11,
   "id": "d6843aa5",
   "metadata": {},
   "outputs": [
    {
     "name": "stdout",
     "output_type": "stream",
     "text": [
      "kod['D']=1\n",
      "{'A': 0, 'B': 1, 'C': 5, 'D': 7777}\n"
     ]
    }
   ],
   "source": [
    "kod = {'A': 0, 'B': 1, 'C': 5, 'D': 1}\n",
    "try:\n",
    "    print(f\"kod['D']={kod['D']}\")\n",
    "except KeyError as err:\n",
    "    print(type(err), err)\n",
    "finally:\n",
    "    kod['D'] = 7777\n",
    "print(kod)"
   ]
  },
  {
   "cell_type": "code",
   "execution_count": 14,
   "id": "f98958a2",
   "metadata": {},
   "outputs": [
    {
     "name": "stdout",
     "output_type": "stream",
     "text": [
      "<class 'KeyError'> 'D'\n",
      "{'A': 0, 'B': 1, 'C': 5}\n"
     ]
    }
   ],
   "source": [
    "import math\n",
    "\n",
    "kod = {'A': 0, 'B': 1, 'C': 5}\n",
    "try:\n",
    "    print(math.sqrt(kod['D']))\n",
    "except KeyError as err:\n",
    "    print(type(err), err)\n",
    "except ValueError as err:\n",
    "    print(type(err), err)\n",
    "print(kod)"
   ]
  },
  {
   "cell_type": "code",
   "execution_count": 17,
   "id": "52d40531",
   "metadata": {},
   "outputs": [
    {
     "name": "stdout",
     "output_type": "stream",
     "text": [
      "math domain error\n",
      "{'A': 0, 'B': 1, 'C': 5, 'D': -1}\n"
     ]
    }
   ],
   "source": [
    "kod = {'A': 0, 'B': 1, 'C': 5, 'D': -1}\n",
    "try:\n",
    "    print(math.sqrt(kod['D']))\n",
    "except (KeyError, ValueError) as err:\n",
    "    print(err)\n",
    "print(kod)"
   ]
  },
  {
   "cell_type": "code",
   "execution_count": 18,
   "id": "230554e5",
   "metadata": {},
   "outputs": [
    {
     "ename": "RuntimeError",
     "evalue": "Błąd w programie!",
     "output_type": "error",
     "traceback": [
      "\u001b[1;31m---------------------------------------------------------------------------\u001b[0m",
      "\u001b[1;31mRuntimeError\u001b[0m                              Traceback (most recent call last)",
      "\u001b[1;32m~\\AppData\\Local\\Temp\\ipykernel_8744\\1632760777.py\u001b[0m in \u001b[0;36m<module>\u001b[1;34m\u001b[0m\n\u001b[0;32m      1\u001b[0m \u001b[1;32mif\u001b[0m \u001b[1;32mTrue\u001b[0m\u001b[1;33m:\u001b[0m\u001b[1;33m\u001b[0m\u001b[1;33m\u001b[0m\u001b[0m\n\u001b[1;32m----> 2\u001b[1;33m     \u001b[1;32mraise\u001b[0m \u001b[0mRuntimeError\u001b[0m\u001b[1;33m(\u001b[0m\u001b[1;34m\"Błąd w programie!\"\u001b[0m\u001b[1;33m)\u001b[0m\u001b[1;33m\u001b[0m\u001b[1;33m\u001b[0m\u001b[0m\n\u001b[0m",
      "\u001b[1;31mRuntimeError\u001b[0m: Błąd w programie!"
     ]
    }
   ],
   "source": [
    "if True:\n",
    "    raise RuntimeError(\"Błąd w programie!\")"
   ]
  },
  {
   "cell_type": "markdown",
   "id": "aaedbacf",
   "metadata": {},
   "source": [
    "### [Standardowe wyjątki](https://docs.python.org/3/library/exceptions.html#exception-hierarchy)"
   ]
  }
 ],
 "metadata": {
  "kernelspec": {
   "display_name": "Python 3 (ipykernel)",
   "language": "python",
   "name": "python3"
  },
  "language_info": {
   "codemirror_mode": {
    "name": "ipython",
    "version": 3
   },
   "file_extension": ".py",
   "mimetype": "text/x-python",
   "name": "python",
   "nbconvert_exporter": "python",
   "pygments_lexer": "ipython3",
   "version": "3.9.13"
  }
 },
 "nbformat": 4,
 "nbformat_minor": 5
}
